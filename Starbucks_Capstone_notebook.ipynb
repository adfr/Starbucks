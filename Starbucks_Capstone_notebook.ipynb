{
 "cells": [
  {
   "cell_type": "markdown",
   "metadata": {},
   "source": [
    "# Starbucks Capstone Challenge\n",
    "\n",
    "### Introduction\n",
    "\n",
    "This data set contains simulated data that mimics customer behavior on the Starbucks rewards mobile app. Once every few days, Starbucks sends out an offer to users of the mobile app. An offer can be merely an advertisement for a drink or an actual offer such as a discount or BOGO (buy one get one free). Some users might not receive any offer during certain weeks. \n",
    "\n",
    "Not all users receive the same offer, and that is the challenge to solve with this data set.\n",
    "\n",
    "Your task is to combine transaction, demographic and offer data to determine which demographic groups respond best to which offer type. This data set is a simplified version of the real Starbucks app because the underlying simulator only has one product whereas Starbucks actually sells dozens of products.\n",
    "\n",
    "Every offer has a validity period before the offer expires. As an example, a BOGO offer might be valid for only 5 days. You'll see in the data set that informational offers have a validity period even though these ads are merely providing information about a product; for example, if an informational offer has 7 days of validity, you can assume the customer is feeling the influence of the offer for 7 days after receiving the advertisement.\n",
    "\n",
    "You'll be given transactional data showing user purchases made on the app including the timestamp of purchase and the amount of money spent on a purchase. This transactional data also has a record for each offer that a user receives as well as a record for when a user actually views the offer. There are also records for when a user completes an offer. \n",
    "\n",
    "Keep in mind as well that someone using the app might make a purchase through the app without having received an offer or seen an offer.\n",
    "\n",
    "### Example\n",
    "\n",
    "To give an example, a user could receive a discount offer buy 10 dollars get 2 off on Monday. The offer is valid for 10 days from receipt. If the customer accumulates at least 10 dollars in purchases during the validity period, the customer completes the offer.\n",
    "\n",
    "However, there are a few things to watch out for in this data set. Customers do not opt into the offers that they receive; in other words, a user can receive an offer, never actually view the offer, and still complete the offer. For example, a user might receive the \"buy 10 dollars get 2 dollars off offer\", but the user never opens the offer during the 10 day validity period. The customer spends 15 dollars during those ten days. There will be an offer completion record in the data set; however, the customer was not influenced by the offer because the customer never viewed the offer.\n",
    "\n",
    "### Cleaning\n",
    "\n",
    "This makes data cleaning especially important and tricky.\n",
    "\n",
    "You'll also want to take into account that some demographic groups will make purchases even if they don't receive an offer. From a business perspective, if a customer is going to make a 10 dollar purchase without an offer anyway, you wouldn't want to send a buy 10 dollars get 2 dollars off offer. You'll want to try to assess what a certain demographic group will buy when not receiving any offers.\n",
    "\n",
    "### Final Advice\n",
    "\n",
    "Because this is a capstone project, you are free to analyze the data any way you see fit. For example, you could build a machine learning model that predicts how much someone will spend based on demographics and offer type. Or you could build a model that predicts whether or not someone will respond to an offer. Or, you don't need to build a machine learning model at all. You could develop a set of heuristics that determine what offer you should send to each customer (i.e., 75 percent of women customers who were 35 years old responded to offer A vs 40 percent from the same demographic to offer B, so send offer A)."
   ]
  },
  {
   "cell_type": "markdown",
   "metadata": {},
   "source": [
    "# 0. Data Sets\n",
    "\n",
    "The data is contained in three files:\n",
    "\n",
    "* portfolio.json - containing offer ids and meta data about each offer (duration, type, etc.)\n",
    "* profile.json - demographic data for each customer\n",
    "* transcript.json - records for transactions, offers received, offers viewed, and offers completed\n",
    "\n",
    "Here is the schema and explanation of each variable in the files:\n",
    "\n",
    "**portfolio.json**\n",
    "* id (string) - offer id\n",
    "* offer_type (string) - type of offer ie BOGO, discount, informational\n",
    "* difficulty (int) - minimum required spend to complete an offer\n",
    "* reward (int) - reward given for completing an offer\n",
    "* duration (int) - time for offer to be open, in days\n",
    "* channels (list of strings)\n",
    "\n",
    "**profile.json**\n",
    "* age (int) - age of the customer \n",
    "* became_member_on (int) - date when customer created an app account\n",
    "* gender (str) - gender of the customer (note some entries contain 'O' for other rather than M or F)\n",
    "* id (str) - customer id\n",
    "* income (float) - customer's income\n",
    "\n",
    "**transcript.json**\n",
    "* event (str) - record description (ie transaction, offer received, offer viewed, etc.)\n",
    "* person (str) - customer id\n",
    "* time (int) - time in hours since start of test. The data begins at time t=0\n",
    "* value - (dict of strings) - either an offer id or transaction amount depending on the record\n",
    "\n"
   ]
  },
  {
   "cell_type": "markdown",
   "metadata": {},
   "source": [
    "#### All import to be done here"
   ]
  },
  {
   "cell_type": "code",
   "execution_count": 695,
   "metadata": {},
   "outputs": [],
   "source": [
    "import pandas as pd\n",
    "import numpy as np\n",
    "import math\n",
    "import json\n",
    "import matplotlib.pyplot as plt\n",
    "from datetime import date as dt\n",
    "import datetime\n",
    "import pyprind as pr\n",
    "import warnings\n",
    "warnings.filterwarnings(\"ignore\")\n",
    "from sklearn.linear_model import LinearRegression, LogisticRegression\n",
    "from sklearn.ensemble import AdaBoostRegressor, RandomForestRegressor\n",
    "from sklearn.tree import DecisionTreeRegressor\n",
    "from sklearn.pipeline import Pipeline\n",
    "from sklearn.preprocessing import MinMaxScaler, minmax_scale\n",
    "from sklearn.feature_selection import SelectPercentile, f_regression, mutual_info_regression, SelectFwe\n",
    "from sklearn.model_selection import train_test_split, GridSearchCV\n",
    "from sklearn.metrics import mean_squared_error, r2_score, make_scorer\n",
    "%matplotlib inline\n",
    "\n"
   ]
  },
  {
   "cell_type": "code",
   "execution_count": 696,
   "metadata": {},
   "outputs": [
    {
     "name": "stdout",
     "output_type": "stream",
     "text": [
      "(10, 6)\n",
      "                       channels  difficulty  duration  \\\n",
      "0       [email, mobile, social]          10         7   \n",
      "1  [web, email, mobile, social]          10         5   \n",
      "2          [web, email, mobile]           0         4   \n",
      "3          [web, email, mobile]           5         7   \n",
      "4                  [web, email]          20        10   \n",
      "5  [web, email, mobile, social]           7         7   \n",
      "6  [web, email, mobile, social]          10        10   \n",
      "7       [email, mobile, social]           0         3   \n",
      "8  [web, email, mobile, social]           5         5   \n",
      "9          [web, email, mobile]          10         7   \n",
      "\n",
      "                                 id     offer_type  reward  \n",
      "0  ae264e3637204a6fb9bb56bc8210ddfd           bogo      10  \n",
      "1  4d5c57ea9a6940dd891ad53e9dbe8da0           bogo      10  \n",
      "2  3f207df678b143eea3cee63160fa8bed  informational       0  \n",
      "3  9b98b8c7a33c4b65b9aebfe6a799e6d9           bogo       5  \n",
      "4  0b1e1539f2cc45b7b9fa7c272da2e1d7       discount       5  \n",
      "5  2298d6c36e964ae4a3e7e9706d1fb8c2       discount       3  \n",
      "6  fafdcd668e3743c1bb461111dcafc2a4       discount       2  \n",
      "7  5a8bc65990b245e5a138643cd4eb9837  informational       0  \n",
      "8  f19421c1d4aa40978ebb69ca19b0e20d           bogo       5  \n",
      "9  2906b810c7d4411798c6938adc9daaa5       discount       2  \n",
      "(17000, 5)\n",
      "   age  became_member_on gender                                id    income\n",
      "0  118          20170212   None  68be06ca386d4c31939f3a4f0e3dd783       NaN\n",
      "1   55          20170715      F  0610b486422d4921ae7d2bf64640c50b  112000.0\n",
      "2  118          20180712   None  38fe809add3b4fcf9315a9694bb96ff5       NaN\n",
      "3   75          20170509      F  78afa995795e4d85b5d9ceeca43f5fef  100000.0\n",
      "4  118          20170804   None  a03223e636434f42ac4c3df47e8bac43       NaN\n",
      "(306534, 4)\n",
      "                  event                            person  time  \\\n",
      "306504      transaction  8524d450673b4c24869b6c94380006de   714   \n",
      "306505      transaction  b895c57e8cd047a8872ce02aa54759d6   714   \n",
      "306506  offer completed  b895c57e8cd047a8872ce02aa54759d6   714   \n",
      "306507     offer viewed  8dda575c2a1d44b9ac8e8b07b93d1f8e   714   \n",
      "306508      transaction  8431c16f8e1d440880db371a68f82dd0   714   \n",
      "306509  offer completed  8431c16f8e1d440880db371a68f82dd0   714   \n",
      "306510      transaction  ba620885e51c4b0ea64a4f61daad494f   714   \n",
      "306511      transaction  a1a8f40407c444cc848468275308958a   714   \n",
      "306512      transaction  8d80970192fa496f99d6b45c470a4b60   714   \n",
      "306513      transaction  bde275066f3c4fa0bff3093e3b866a2c   714   \n",
      "306514      transaction  f1e4fd36e5a0446f83861308bddf6945   714   \n",
      "306515      transaction  0b64be3b241c4407a5c9a71781173829   714   \n",
      "306516      transaction  86d03d35d7e0434b935e7743e83be3a0   714   \n",
      "306517      transaction  3408fd05c781401f8442fb6dbaaea9c7   714   \n",
      "306518      transaction  1593d617fac246ef8e50dbb0ffd77f5f   714   \n",
      "306519      transaction  f1b31d07b5d84f69a2d5f1d07843989e   714   \n",
      "306520      transaction  2ce987015ec0404a97ba333e8e814090   714   \n",
      "306521      transaction  2e33545f0a764d27b2ccff95fc8d72c4   714   \n",
      "306522      transaction  d1c4500ace2e45e9a45d3cd2fccac8d8   714   \n",
      "306523      transaction  b65affd9e07346a1906364a396950e3d   714   \n",
      "306524      transaction  d613ca9c59dd42f497bdbf6178da54a7   714   \n",
      "306525      transaction  eec70ab28af74a22a4aeb889c0317944   714   \n",
      "306526      transaction  24f56b5e1849462093931b164eb803b5   714   \n",
      "306527  offer completed  24f56b5e1849462093931b164eb803b5   714   \n",
      "306528      transaction  5ca2620962114246ab218fc648eb3934   714   \n",
      "306529      transaction  b3a1272bc9904337b331bf348c3e8c17   714   \n",
      "306530      transaction  68213b08d99a4ae1b0dcb72aebd9aa35   714   \n",
      "306531      transaction  a00058cf10334a308c68e7631c529907   714   \n",
      "306532      transaction  76ddbd6576844afe811f1a3c0fbb5bec   714   \n",
      "306533      transaction  c02b10e8752c4d8e9b73f918558531f7   714   \n",
      "\n",
      "                                                    value  \n",
      "306504                                   {'amount': 4.89}  \n",
      "306505                                   {'amount': 4.48}  \n",
      "306506  {'offer_id': 'fafdcd668e3743c1bb461111dcafc2a4...  \n",
      "306507   {'offer_id': '0b1e1539f2cc45b7b9fa7c272da2e1d7'}  \n",
      "306508                                   {'amount': 1.19}  \n",
      "306509  {'offer_id': 'fafdcd668e3743c1bb461111dcafc2a4...  \n",
      "306510                                  {'amount': 14.31}  \n",
      "306511                                   {'amount': 2.37}  \n",
      "306512                                   {'amount': 6.92}  \n",
      "306513                                  {'amount': 12.73}  \n",
      "306514                                    {'amount': 8.2}  \n",
      "306515                                    {'amount': 2.6}  \n",
      "306516                                    {'amount': 9.2}  \n",
      "306517                                   {'amount': 11.7}  \n",
      "306518                                  {'amount': 40.67}  \n",
      "306519                                  {'amount': 31.13}  \n",
      "306520                     {'amount': 1.6400000000000001}  \n",
      "306521                                  {'amount': 17.35}  \n",
      "306522                                   {'amount': 4.42}  \n",
      "306523                                  {'amount': 18.35}  \n",
      "306524                                  {'amount': 25.14}  \n",
      "306525                                  {'amount': 43.58}  \n",
      "306526                                  {'amount': 22.64}  \n",
      "306527  {'offer_id': 'fafdcd668e3743c1bb461111dcafc2a4...  \n",
      "306528                                    {'amount': 2.2}  \n",
      "306529                     {'amount': 1.5899999999999999}  \n",
      "306530                                   {'amount': 9.53}  \n",
      "306531                                   {'amount': 3.61}  \n",
      "306532                     {'amount': 3.5300000000000002}  \n",
      "306533                                   {'amount': 4.05}  \n"
     ]
    }
   ],
   "source": [
    "# read in the json files\n",
    "portfolio = pd.read_json('Data/portfolio.json', orient='records', lines=True)\n",
    "profile = pd.read_json('Data/profile.json', orient='records', lines=True)\n",
    "transcript = pd.read_json('data/transcript.json', orient='records', lines=True)\n",
    "print(portfolio.shape)\n",
    "print(portfolio)\n",
    "print(profile.shape)\n",
    "print(profile.head())\n",
    "print(transcript.shape)\n",
    "print(transcript.tail(30))"
   ]
  },
  {
   "cell_type": "markdown",
   "metadata": {},
   "source": [
    "# 1. Data Exploration\n",
    "\n",
    "This part, we focuse on having a look at the data and making sure we understand it and understand potential data issues.\n",
    "\n",
    "### 1.a Portfolio\n"
   ]
  },
  {
   "cell_type": "code",
   "execution_count": 697,
   "metadata": {},
   "outputs": [
    {
     "name": "stdout",
     "output_type": "stream",
     "text": [
      "                       channels  difficulty  duration  \\\n",
      "0       [email, mobile, social]          10         7   \n",
      "1  [web, email, mobile, social]          10         5   \n",
      "2          [web, email, mobile]           0         4   \n",
      "3          [web, email, mobile]           5         7   \n",
      "4                  [web, email]          20        10   \n",
      "5  [web, email, mobile, social]           7         7   \n",
      "6  [web, email, mobile, social]          10        10   \n",
      "7       [email, mobile, social]           0         3   \n",
      "8  [web, email, mobile, social]           5         5   \n",
      "9          [web, email, mobile]          10         7   \n",
      "\n",
      "                                 id     offer_type  reward  \n",
      "0  ae264e3637204a6fb9bb56bc8210ddfd           bogo      10  \n",
      "1  4d5c57ea9a6940dd891ad53e9dbe8da0           bogo      10  \n",
      "2  3f207df678b143eea3cee63160fa8bed  informational       0  \n",
      "3  9b98b8c7a33c4b65b9aebfe6a799e6d9           bogo       5  \n",
      "4  0b1e1539f2cc45b7b9fa7c272da2e1d7       discount       5  \n",
      "5  2298d6c36e964ae4a3e7e9706d1fb8c2       discount       3  \n",
      "6  fafdcd668e3743c1bb461111dcafc2a4       discount       2  \n",
      "7  5a8bc65990b245e5a138643cd4eb9837  informational       0  \n",
      "8  f19421c1d4aa40978ebb69ca19b0e20d           bogo       5  \n",
      "9  2906b810c7d4411798c6938adc9daaa5       discount       2  \n"
     ]
    }
   ],
   "source": [
    "print(portfolio)"
   ]
  },
  {
   "cell_type": "code",
   "execution_count": 698,
   "metadata": {},
   "outputs": [
    {
     "data": {
      "text/plain": [
       "<matplotlib.axes._subplots.AxesSubplot at 0x121cf39b0>"
      ]
     },
     "execution_count": 698,
     "metadata": {},
     "output_type": "execute_result"
    },
    {
     "data": {
      "image/png": "[encoded data removed]",
      "text/plain": [
       "<Figure size 432x288 with 1 Axes>"
      ]
     },
     "metadata": {
      "needs_background": "light"
     },
     "output_type": "display_data"
    }
   ],
   "source": [
    "portfolio.plot( 'difficulty' , 'reward', kind = 'scatter')"
   ]
  },
  {
   "cell_type": "markdown",
   "metadata": {},
   "source": [
    "The duration typiccaly spans 3 to 10 days, and usually is done on multiple support. We will probably have to create dummy variable for the support."
   ]
  },
  {
   "cell_type": "markdown",
   "metadata": {},
   "source": [
    "### 1.b Profile"
   ]
  },
  {
   "cell_type": "markdown",
   "metadata": {},
   "source": [
    "Profile table contains all customers data that is available. Like any customer data, it is likely to be incomplete or is ubject to data error. We start by having a look at the quantitative data: age, became_member_on and income."
   ]
  },
  {
   "cell_type": "code",
   "execution_count": 699,
   "metadata": {},
   "outputs": [
    {
     "data": {
      "text/html": [
       "<div>\n",
       "<style scoped>\n",
       "    .dataframe tbody tr th:only-of-type {\n",
       "        vertical-align: middle;\n",
       "    }\n",
       "\n",
       "    .dataframe tbody tr th {\n",
       "        vertical-align: top;\n",
       "    }\n",
       "\n",
       "    .dataframe thead th {\n",
       "        text-align: right;\n",
       "    }\n",
       "</style>\n",
       "<table border=\"1\" class=\"dataframe\">\n",
       "  <thead>\n",
       "    <tr style=\"text-align: right;\">\n",
       "      <th></th>\n",
       "      <th>age</th>\n",
       "      <th>became_member_on</th>\n",
       "      <th>income</th>\n",
       "    </tr>\n",
       "  </thead>\n",
       "  <tbody>\n",
       "    <tr>\n",
       "      <th>count</th>\n",
       "      <td>17000.000000</td>\n",
       "      <td>1.700000e+04</td>\n",
       "      <td>14825.000000</td>\n",
       "    </tr>\n",
       "    <tr>\n",
       "      <th>mean</th>\n",
       "      <td>62.531412</td>\n",
       "      <td>2.016703e+07</td>\n",
       "      <td>65404.991568</td>\n",
       "    </tr>\n",
       "    <tr>\n",
       "      <th>std</th>\n",
       "      <td>26.738580</td>\n",
       "      <td>1.167750e+04</td>\n",
       "      <td>21598.299410</td>\n",
       "    </tr>\n",
       "    <tr>\n",
       "      <th>min</th>\n",
       "      <td>18.000000</td>\n",
       "      <td>2.013073e+07</td>\n",
       "      <td>30000.000000</td>\n",
       "    </tr>\n",
       "    <tr>\n",
       "      <th>25%</th>\n",
       "      <td>45.000000</td>\n",
       "      <td>2.016053e+07</td>\n",
       "      <td>49000.000000</td>\n",
       "    </tr>\n",
       "    <tr>\n",
       "      <th>50%</th>\n",
       "      <td>58.000000</td>\n",
       "      <td>2.017080e+07</td>\n",
       "      <td>64000.000000</td>\n",
       "    </tr>\n",
       "    <tr>\n",
       "      <th>75%</th>\n",
       "      <td>73.000000</td>\n",
       "      <td>2.017123e+07</td>\n",
       "      <td>80000.000000</td>\n",
       "    </tr>\n",
       "    <tr>\n",
       "      <th>max</th>\n",
       "      <td>118.000000</td>\n",
       "      <td>2.018073e+07</td>\n",
       "      <td>120000.000000</td>\n",
       "    </tr>\n",
       "  </tbody>\n",
       "</table>\n",
       "</div>"
      ],
      "text/plain": [
       "                age  became_member_on         income\n",
       "count  17000.000000      1.700000e+04   14825.000000\n",
       "mean      62.531412      2.016703e+07   65404.991568\n",
       "std       26.738580      1.167750e+04   21598.299410\n",
       "min       18.000000      2.013073e+07   30000.000000\n",
       "25%       45.000000      2.016053e+07   49000.000000\n",
       "50%       58.000000      2.017080e+07   64000.000000\n",
       "75%       73.000000      2.017123e+07   80000.000000\n",
       "max      118.000000      2.018073e+07  120000.000000"
      ]
     },
     "execution_count": 699,
     "metadata": {},
     "output_type": "execute_result"
    }
   ],
   "source": [
    "profile.describe()"
   ]
  },
  {
   "cell_type": "markdown",
   "metadata": {},
   "source": [
    "became_member_on clearly needs formating, the age percentile seems quite high. I rarely seem 25 % of 73y + at starbucks.\n"
   ]
  },
  {
   "cell_type": "code",
   "execution_count": 700,
   "metadata": {},
   "outputs": [
    {
     "data": {
      "image/png": "[encoded data removed]",
      "text/plain": [
       "<Figure size 432x288 with 1 Axes>"
      ]
     },
     "metadata": {
      "needs_background": "light"
     },
     "output_type": "display_data"
    },
    {
     "data": {
      "image/png": "[encoded data removed]",
      "text/plain": [
       "<Figure size 432x288 with 1 Axes>"
      ]
     },
     "metadata": {
      "needs_background": "light"
     },
     "output_type": "display_data"
    },
    {
     "data": {
      "image/png": "[encoded data removed]",
      "text/plain": [
       "<Figure size 432x288 with 1 Axes>"
      ]
     },
     "metadata": {
      "needs_background": "light"
     },
     "output_type": "display_data"
    },
    {
     "data": {
      "text/plain": [
       "(2175, 5)"
      ]
     },
     "execution_count": 700,
     "metadata": {},
     "output_type": "execute_result"
    }
   ],
   "source": [
    "#fig, axes = plt.subplots(nrows=2, ncols=2)\n",
    "\n",
    "#profile.plot(   'age',kind='bar', ax=axes[0,0])\n",
    "# plot the age\n",
    "plt.hist(profile.age, bins = 30);\n",
    "plt.xlabel('Age');\n",
    "plt.ylabel('Density');\n",
    "plt.title('Age');\n",
    "plt.show()\n",
    "#profile.plot(   'income',kind='bar' ,  ax=axes[0,1])\n",
    "\n",
    "plt.hist(profile.income, bins = 30);\n",
    "plt.xlabel('Income');\n",
    "plt.ylabel('Density');\n",
    "plt.title('Income');\n",
    "plt.show()\n",
    "plt.hist(profile.became_member_on, bins = 5);\n",
    "plt.xlabel('became_member_on');\n",
    "plt.ylabel('Density');\n",
    "plt.title('became_member_on');\n",
    "plt.show()\n",
    "profile[profile.age>110].shape"
   ]
  },
  {
   "cell_type": "markdown",
   "metadata": {},
   "source": [
    "There is an issue with age, probably linked to the 2175 incomplete applications. The date format will have to be corrected and is unevenly distributed accross the years."
   ]
  },
  {
   "cell_type": "code",
   "execution_count": 701,
   "metadata": {},
   "outputs": [
    {
     "data": {
      "text/plain": [
       "age                    0\n",
       "became_member_on       0\n",
       "gender              2175\n",
       "id                     0\n",
       "income              2175\n",
       "dtype: int64"
      ]
     },
     "execution_count": 701,
     "metadata": {},
     "output_type": "execute_result"
    }
   ],
   "source": [
    "profile.isna().sum()"
   ]
  },
  {
   "cell_type": "markdown",
   "metadata": {},
   "source": [
    "Regarding the 2 qualitative variable: id and gender, we perform grouping"
   ]
  },
  {
   "cell_type": "code",
   "execution_count": 702,
   "metadata": {},
   "outputs": [
    {
     "name": "stdout",
     "output_type": "stream",
     "text": [
      "gender\n",
      "F    6129\n",
      "M    8484\n",
      "O     212\n",
      "Name: age, dtype: int64\n",
      "-2175\n",
      "1.0\n"
     ]
    }
   ],
   "source": [
    "print(profile.groupby('gender').age.count())\n",
    "print(profile.groupby('gender').age.count().sum() - profile.shape[0])\n",
    "print(profile.nunique().id/profile.shape[0])"
   ]
  },
  {
   "cell_type": "markdown",
   "metadata": {},
   "source": [
    "Good news, we do not seem to have duplicate of id but 212 customer did not provide their gender. this is a small proportion of the sample. Main issue is the unknown that are in the dataset which amount to 2175. It seems that some applications were simply incomplete because both the gender and the income are missing.\n",
    "\n",
    "### Since we will try to forecast the best promotion for groups of individual based on demographics, we will  delete incomplete applications\n"
   ]
  },
  {
   "cell_type": "markdown",
   "metadata": {},
   "source": [
    "### 1.c Transcript\n",
    "The file contain what was the outcome of each promotion for each individuals"
   ]
  },
  {
   "cell_type": "markdown",
   "metadata": {},
   "source": []
  },
  {
   "cell_type": "code",
   "execution_count": 703,
   "metadata": {},
   "outputs": [
    {
     "data": {
      "image/png": "[encoded data removed]",
      "text/plain": [
       "<Figure size 432x288 with 1 Axes>"
      ]
     },
     "metadata": {
      "needs_background": "light"
     },
     "output_type": "display_data"
    }
   ],
   "source": [
    "plt.hist(transcript.time, bins = 30);\n",
    "plt.xlabel('Time');\n",
    "plt.ylabel('Count');\n",
    "plt.title('timing interaction');\n",
    "plt.show()\n"
   ]
  },
  {
   "cell_type": "markdown",
   "metadata": {},
   "source": [
    "the spikes look a bit suspicious. They probably match with reception off offer. Lets confirm that:"
   ]
  },
  {
   "cell_type": "code",
   "execution_count": 704,
   "metadata": {},
   "outputs": [
    {
     "data": {
      "text/html": [
       "<div>\n",
       "<style scoped>\n",
       "    .dataframe tbody tr th:only-of-type {\n",
       "        vertical-align: middle;\n",
       "    }\n",
       "\n",
       "    .dataframe tbody tr th {\n",
       "        vertical-align: top;\n",
       "    }\n",
       "\n",
       "    .dataframe thead th {\n",
       "        text-align: right;\n",
       "    }\n",
       "</style>\n",
       "<table border=\"1\" class=\"dataframe\">\n",
       "  <thead>\n",
       "    <tr style=\"text-align: right;\">\n",
       "      <th></th>\n",
       "      <th>person</th>\n",
       "      <th>time</th>\n",
       "      <th>value</th>\n",
       "    </tr>\n",
       "    <tr>\n",
       "      <th>event</th>\n",
       "      <th></th>\n",
       "      <th></th>\n",
       "      <th></th>\n",
       "    </tr>\n",
       "  </thead>\n",
       "  <tbody>\n",
       "    <tr>\n",
       "      <th>offer completed</th>\n",
       "      <td>206</td>\n",
       "      <td>206</td>\n",
       "      <td>206</td>\n",
       "    </tr>\n",
       "    <tr>\n",
       "      <th>offer received</th>\n",
       "      <td>12650</td>\n",
       "      <td>12650</td>\n",
       "      <td>12650</td>\n",
       "    </tr>\n",
       "    <tr>\n",
       "      <th>offer viewed</th>\n",
       "      <td>2072</td>\n",
       "      <td>2072</td>\n",
       "      <td>2072</td>\n",
       "    </tr>\n",
       "    <tr>\n",
       "      <th>transaction</th>\n",
       "      <td>633</td>\n",
       "      <td>633</td>\n",
       "      <td>633</td>\n",
       "    </tr>\n",
       "  </tbody>\n",
       "</table>\n",
       "</div>"
      ],
      "text/plain": [
       "                 person   time  value\n",
       "event                                \n",
       "offer completed     206    206    206\n",
       "offer received    12650  12650  12650\n",
       "offer viewed       2072   2072   2072\n",
       "transaction         633    633    633"
      ]
     },
     "execution_count": 704,
     "metadata": {},
     "output_type": "execute_result"
    }
   ],
   "source": [
    "transcript[transcript.time==0].groupby('event' ).count()"
   ]
  },
  {
   "cell_type": "markdown",
   "metadata": {},
   "source": [
    "It did not confirm, let investigate further:"
   ]
  },
  {
   "cell_type": "code",
   "execution_count": 705,
   "metadata": {},
   "outputs": [
    {
     "data": {
      "image/png": "[encoded data removed]",
      "text/plain": [
       "<Figure size 432x288 with 1 Axes>"
      ]
     },
     "metadata": {
      "needs_background": "light"
     },
     "output_type": "display_data"
    },
    {
     "data": {
      "image/png": "[encoded data removed]",
      "text/plain": [
       "<Figure size 432x288 with 1 Axes>"
      ]
     },
     "metadata": {
      "needs_background": "light"
     },
     "output_type": "display_data"
    },
    {
     "data": {
      "image/png": "[encoded data removed]",
      "text/plain": [
       "<Figure size 432x288 with 1 Axes>"
      ]
     },
     "metadata": {
      "needs_background": "light"
     },
     "output_type": "display_data"
    },
    {
     "data": {
      "image/png": "[encoded data removed]",
      "text/plain": [
       "<Figure size 432x288 with 1 Axes>"
      ]
     },
     "metadata": {
      "needs_background": "light"
     },
     "output_type": "display_data"
    }
   ],
   "source": [
    "plt.hist(transcript.time[transcript.event=='offer completed'], bins = 30);\n",
    "plt.xlabel('Time');\n",
    "plt.ylabel('Count');\n",
    "plt.title('Offer completed');\n",
    "plt.show()\n",
    "                         \n",
    "plt.hist(transcript.time[transcript.event=='offer received'], bins = 30);\n",
    "plt.xlabel('Time');\n",
    "plt.ylabel('Count');\n",
    "plt.title('Offer received');\n",
    "plt.show()\n",
    "                                                  \n",
    "plt.hist(transcript.time[transcript.event=='offer viewed'], bins = 30);\n",
    "plt.xlabel('Time');\n",
    "plt.ylabel('Count');\n",
    "plt.title('Offer viewed');\n",
    "plt.show()\n",
    "                         \n",
    "                         \n",
    "plt.hist(transcript.time[transcript.event=='transaction'], bins = 120);\n",
    "plt.xlabel('Time');\n",
    "plt.ylabel('Count');\n",
    "plt.title('transaction');\n",
    "plt.show()"
   ]
  },
  {
   "cell_type": "markdown",
   "metadata": {},
   "source": [
    "We can have a look at the number of promotion per person"
   ]
  },
  {
   "cell_type": "code",
   "execution_count": 706,
   "metadata": {},
   "outputs": [
    {
     "data": {
      "text/plain": [
       "18.031411764705883"
      ]
     },
     "execution_count": 706,
     "metadata": {},
     "output_type": "execute_result"
    }
   ],
   "source": [
    "transcript.groupby('person' ).count().mean().event"
   ]
  },
  {
   "cell_type": "markdown",
   "metadata": {},
   "source": [
    "So each person in the subset there was an average of 18 interaction.\n",
    "obviously we will have to do some data processing to use  the value field. We will have a look at this in the next part."
   ]
  },
  {
   "cell_type": "markdown",
   "metadata": {},
   "source": [
    "# 2. Data Pre-Processing"
   ]
  },
  {
   "cell_type": "markdown",
   "metadata": {},
   "source": [
    "Here is our roadmap for the data processing:  \n",
    "#### a. for the porfolio create dummies for channel and promotion type\n",
    "#### b. Remove customers without demographic information  \n",
    "#### c. Ensure completeness of the data of profile dataframe  \n",
    "#### d. create dummy on Gender  \n",
    "#### e. process the become_member_on  \n",
    "#### f. create dummy on Event for transcript  \n",
    "#### g. Process the Value field  \n",
    "#### h. Merge all the data in one usable data frame"
   ]
  },
  {
   "cell_type": "markdown",
   "metadata": {},
   "source": [
    "### 2.a. Create dummies for channel and promotion type"
   ]
  },
  {
   "cell_type": "code",
   "execution_count": 707,
   "metadata": {},
   "outputs": [
    {
     "name": "stdout",
     "output_type": "stream",
     "text": [
      "                       channels  difficulty  duration  \\\n",
      "0       [email, mobile, social]          10         7   \n",
      "1  [web, email, mobile, social]          10         5   \n",
      "2          [web, email, mobile]           0         4   \n",
      "3          [web, email, mobile]           5         7   \n",
      "4                  [web, email]          20        10   \n",
      "5  [web, email, mobile, social]           7         7   \n",
      "6  [web, email, mobile, social]          10        10   \n",
      "7       [email, mobile, social]           0         3   \n",
      "8  [web, email, mobile, social]           5         5   \n",
      "9          [web, email, mobile]          10         7   \n",
      "\n",
      "                                 id     offer_type  reward  email  social  \\\n",
      "0  ae264e3637204a6fb9bb56bc8210ddfd           bogo      10      1       1   \n",
      "1  4d5c57ea9a6940dd891ad53e9dbe8da0           bogo      10      1       1   \n",
      "2  3f207df678b143eea3cee63160fa8bed  informational       0      1       0   \n",
      "3  9b98b8c7a33c4b65b9aebfe6a799e6d9           bogo       5      1       0   \n",
      "4  0b1e1539f2cc45b7b9fa7c272da2e1d7       discount       5      1       0   \n",
      "5  2298d6c36e964ae4a3e7e9706d1fb8c2       discount       3      1       1   \n",
      "6  fafdcd668e3743c1bb461111dcafc2a4       discount       2      1       1   \n",
      "7  5a8bc65990b245e5a138643cd4eb9837  informational       0      1       1   \n",
      "8  f19421c1d4aa40978ebb69ca19b0e20d           bogo       5      1       1   \n",
      "9  2906b810c7d4411798c6938adc9daaa5       discount       2      1       0   \n",
      "\n",
      "   mobile  web  bogo  discount  informational  \n",
      "0       1    0     1         0              0  \n",
      "1       1    1     1         0              0  \n",
      "2       1    1     0         0              1  \n",
      "3       1    1     1         0              0  \n",
      "4       0    1     0         1              0  \n",
      "5       1    1     0         1              0  \n",
      "6       1    1     0         1              0  \n",
      "7       1    0     0         0              1  \n",
      "8       1    1     1         0              0  \n",
      "9       1    1     0         1              0  \n"
     ]
    }
   ],
   "source": [
    "# create dummy for email,social,media, web\n",
    "portfolio['email'] = 0\n",
    "portfolio['social'] = 0\n",
    "portfolio['mobile'] = 0\n",
    "portfolio['web'] = 0\n",
    "# first we do the channels\n",
    "portfolio.email = portfolio.channels.apply( lambda row : 1 if('email' in row) else 0)\n",
    "portfolio.social = portfolio.channels.apply( lambda row : 1 if('social' in row) else 0)\n",
    "portfolio.mobile = portfolio.channels.apply( lambda row : 1 if('mobile' in row) else 0)\n",
    "portfolio.web = portfolio.channels.apply( lambda row : 1 if('web' in row) else 0)\n",
    "#second, we do the offer_type\n",
    "portfolio = pd.concat( [portfolio, pd.get_dummies(portfolio.offer_type)],axis =1)\n",
    "print(portfolio)"
   ]
  },
  {
   "cell_type": "markdown",
   "metadata": {},
   "source": [
    "## 2.b. Remove customers without demographic information"
   ]
  },
  {
   "cell_type": "code",
   "execution_count": 708,
   "metadata": {},
   "outputs": [
    {
     "name": "stdout",
     "output_type": "stream",
     "text": [
      "(17000, 5)\n",
      "(14825, 5)\n"
     ]
    }
   ],
   "source": [
    "print(profile.shape)\n",
    "profile= profile.dropna()\n",
    "print(profile.shape)"
   ]
  },
  {
   "cell_type": "markdown",
   "metadata": {},
   "source": [
    "## 2.c. Ensure completeness of the data of profile dataframe"
   ]
  },
  {
   "cell_type": "markdown",
   "metadata": {},
   "source": [
    "id was complete before so it must be complete now too"
   ]
  },
  {
   "cell_type": "markdown",
   "metadata": {},
   "source": [
    "## 2.d. Create dummy on Gender"
   ]
  },
  {
   "cell_type": "code",
   "execution_count": 709,
   "metadata": {},
   "outputs": [
    {
     "name": "stdout",
     "output_type": "stream",
     "text": [
      "    age  became_member_on gender                                id    income  \\\n",
      "1    55          20170715      F  0610b486422d4921ae7d2bf64640c50b  112000.0   \n",
      "3    75          20170509      F  78afa995795e4d85b5d9ceeca43f5fef  100000.0   \n",
      "5    68          20180426      M  e2127556f4f64592b11af22de27a7932   70000.0   \n",
      "8    65          20180209      M  389bc3fa690240e798340f5a15918d5c   53000.0   \n",
      "12   58          20171111      M  2eeac8d8feae4a8cad5a6af0499a211d   51000.0   \n",
      "\n",
      "    F  M  O  \n",
      "1   1  0  0  \n",
      "3   1  0  0  \n",
      "5   0  1  0  \n",
      "8   0  1  0  \n",
      "12  0  1  0  \n"
     ]
    }
   ],
   "source": [
    "profile = pd.concat( [profile, pd.get_dummies(profile.gender)],axis =1)\n",
    "print(profile.head())"
   ]
  },
  {
   "cell_type": "markdown",
   "metadata": {},
   "source": [
    "## 2.e Process the became_member_on"
   ]
  },
  {
   "cell_type": "code",
   "execution_count": 710,
   "metadata": {},
   "outputs": [
    {
     "name": "stdout",
     "output_type": "stream",
     "text": [
      "1     20170715\n",
      "3     20170509\n",
      "5     20180426\n",
      "8     20180209\n",
      "12    20171111\n",
      "Name: became_member_on, dtype: int64\n",
      "1    2017-07-15\n",
      "3    2017-05-09\n",
      "5    2018-04-26\n",
      "8    2018-02-09\n",
      "12   2017-11-11\n",
      "Name: became_member_on, dtype: datetime64[ns]\n"
     ]
    }
   ],
   "source": [
    "print(profile.became_member_on.head())\n",
    "profile.became_member_on = profile.became_member_on.apply( lambda row : str(row))\n",
    "profile.became_member_on =profile.became_member_on.astype('str')\n",
    "profile.became_member_on = pd.to_datetime( profile.became_member_on, format=\"%Y%m%d\")\n",
    "print(profile.became_member_on.head())"
   ]
  },
  {
   "cell_type": "markdown",
   "metadata": {},
   "source": [
    "## 2.f. Create dummy on Event for transcript"
   ]
  },
  {
   "cell_type": "code",
   "execution_count": 711,
   "metadata": {},
   "outputs": [
    {
     "name": "stdout",
     "output_type": "stream",
     "text": [
      "            event                            person  time  \\\n",
      "0  offer received  78afa995795e4d85b5d9ceeca43f5fef     0   \n",
      "1  offer received  a03223e636434f42ac4c3df47e8bac43     0   \n",
      "2  offer received  e2127556f4f64592b11af22de27a7932     0   \n",
      "3  offer received  8ec6ce2a7e7949b1bf142def7d0e0586     0   \n",
      "4  offer received  68617ca6246f4fbc85e91a2a49552598     0   \n",
      "\n",
      "                                              value  offer completed  \\\n",
      "0  {'offer_id': '9b98b8c7a33c4b65b9aebfe6a799e6d9'}                0   \n",
      "1  {'offer_id': '0b1e1539f2cc45b7b9fa7c272da2e1d7'}                0   \n",
      "2  {'offer_id': '2906b810c7d4411798c6938adc9daaa5'}                0   \n",
      "3  {'offer_id': 'fafdcd668e3743c1bb461111dcafc2a4'}                0   \n",
      "4  {'offer_id': '4d5c57ea9a6940dd891ad53e9dbe8da0'}                0   \n",
      "\n",
      "   offer received  offer viewed  transaction  \n",
      "0               1             0            0  \n",
      "1               1             0            0  \n",
      "2               1             0            0  \n",
      "3               1             0            0  \n",
      "4               1             0            0  \n"
     ]
    }
   ],
   "source": [
    "transcript = pd.concat( [transcript, pd.get_dummies(transcript.event)],axis =1)\n",
    "print(transcript.head())"
   ]
  },
  {
   "cell_type": "markdown",
   "metadata": {},
   "source": [
    "## 2.g. Process the Value field"
   ]
  },
  {
   "cell_type": "code",
   "execution_count": null,
   "metadata": {},
   "outputs": [],
   "source": []
  },
  {
   "cell_type": "code",
   "execution_count": 712,
   "metadata": {},
   "outputs": [
    {
     "name": "stdout",
     "output_type": "stream",
     "text": [
      "                  event                            person  time  \\\n",
      "306504      transaction  8524d450673b4c24869b6c94380006de   714   \n",
      "306505      transaction  b895c57e8cd047a8872ce02aa54759d6   714   \n",
      "306506  offer completed  b895c57e8cd047a8872ce02aa54759d6   714   \n",
      "306507     offer viewed  8dda575c2a1d44b9ac8e8b07b93d1f8e   714   \n",
      "306508      transaction  8431c16f8e1d440880db371a68f82dd0   714   \n",
      "306509  offer completed  8431c16f8e1d440880db371a68f82dd0   714   \n",
      "306510      transaction  ba620885e51c4b0ea64a4f61daad494f   714   \n",
      "306511      transaction  a1a8f40407c444cc848468275308958a   714   \n",
      "306512      transaction  8d80970192fa496f99d6b45c470a4b60   714   \n",
      "306513      transaction  bde275066f3c4fa0bff3093e3b866a2c   714   \n",
      "306514      transaction  f1e4fd36e5a0446f83861308bddf6945   714   \n",
      "306515      transaction  0b64be3b241c4407a5c9a71781173829   714   \n",
      "306516      transaction  86d03d35d7e0434b935e7743e83be3a0   714   \n",
      "306517      transaction  3408fd05c781401f8442fb6dbaaea9c7   714   \n",
      "306518      transaction  1593d617fac246ef8e50dbb0ffd77f5f   714   \n",
      "306519      transaction  f1b31d07b5d84f69a2d5f1d07843989e   714   \n",
      "306520      transaction  2ce987015ec0404a97ba333e8e814090   714   \n",
      "306521      transaction  2e33545f0a764d27b2ccff95fc8d72c4   714   \n",
      "306522      transaction  d1c4500ace2e45e9a45d3cd2fccac8d8   714   \n",
      "306523      transaction  b65affd9e07346a1906364a396950e3d   714   \n",
      "306524      transaction  d613ca9c59dd42f497bdbf6178da54a7   714   \n",
      "306525      transaction  eec70ab28af74a22a4aeb889c0317944   714   \n",
      "306526      transaction  24f56b5e1849462093931b164eb803b5   714   \n",
      "306527  offer completed  24f56b5e1849462093931b164eb803b5   714   \n",
      "306528      transaction  5ca2620962114246ab218fc648eb3934   714   \n",
      "306529      transaction  b3a1272bc9904337b331bf348c3e8c17   714   \n",
      "306530      transaction  68213b08d99a4ae1b0dcb72aebd9aa35   714   \n",
      "306531      transaction  a00058cf10334a308c68e7631c529907   714   \n",
      "306532      transaction  76ddbd6576844afe811f1a3c0fbb5bec   714   \n",
      "306533      transaction  c02b10e8752c4d8e9b73f918558531f7   714   \n",
      "\n",
      "                                                    value  offer completed  \\\n",
      "306504                                   {'amount': 4.89}                0   \n",
      "306505                                   {'amount': 4.48}                0   \n",
      "306506  {'offer_id': 'fafdcd668e3743c1bb461111dcafc2a4...                1   \n",
      "306507   {'offer_id': '0b1e1539f2cc45b7b9fa7c272da2e1d7'}                0   \n",
      "306508                                   {'amount': 1.19}                0   \n",
      "306509  {'offer_id': 'fafdcd668e3743c1bb461111dcafc2a4...                1   \n",
      "306510                                  {'amount': 14.31}                0   \n",
      "306511                                   {'amount': 2.37}                0   \n",
      "306512                                   {'amount': 6.92}                0   \n",
      "306513                                  {'amount': 12.73}                0   \n",
      "306514                                    {'amount': 8.2}                0   \n",
      "306515                                    {'amount': 2.6}                0   \n",
      "306516                                    {'amount': 9.2}                0   \n",
      "306517                                   {'amount': 11.7}                0   \n",
      "306518                                  {'amount': 40.67}                0   \n",
      "306519                                  {'amount': 31.13}                0   \n",
      "306520                     {'amount': 1.6400000000000001}                0   \n",
      "306521                                  {'amount': 17.35}                0   \n",
      "306522                                   {'amount': 4.42}                0   \n",
      "306523                                  {'amount': 18.35}                0   \n",
      "306524                                  {'amount': 25.14}                0   \n",
      "306525                                  {'amount': 43.58}                0   \n",
      "306526                                  {'amount': 22.64}                0   \n",
      "306527  {'offer_id': 'fafdcd668e3743c1bb461111dcafc2a4...                1   \n",
      "306528                                    {'amount': 2.2}                0   \n",
      "306529                     {'amount': 1.5899999999999999}                0   \n",
      "306530                                   {'amount': 9.53}                0   \n",
      "306531                                   {'amount': 3.61}                0   \n",
      "306532                     {'amount': 3.5300000000000002}                0   \n",
      "306533                                   {'amount': 4.05}                0   \n",
      "\n",
      "        offer received  offer viewed  transaction  offer_id  amount  \\\n",
      "306504               0             0            1         0       1   \n",
      "306505               0             0            1         0       1   \n",
      "306506               0             0            0         1       0   \n",
      "306507               0             1            0         1       0   \n",
      "306508               0             0            1         0       1   \n",
      "306509               0             0            0         1       0   \n",
      "306510               0             0            1         0       1   \n",
      "306511               0             0            1         0       1   \n",
      "306512               0             0            1         0       1   \n",
      "306513               0             0            1         0       1   \n",
      "306514               0             0            1         0       1   \n",
      "306515               0             0            1         0       1   \n",
      "306516               0             0            1         0       1   \n",
      "306517               0             0            1         0       1   \n",
      "306518               0             0            1         0       1   \n",
      "306519               0             0            1         0       1   \n",
      "306520               0             0            1         0       1   \n",
      "306521               0             0            1         0       1   \n",
      "306522               0             0            1         0       1   \n",
      "306523               0             0            1         0       1   \n",
      "306524               0             0            1         0       1   \n",
      "306525               0             0            1         0       1   \n",
      "306526               0             0            1         0       1   \n",
      "306527               0             0            0         1       0   \n",
      "306528               0             0            1         0       1   \n",
      "306529               0             0            1         0       1   \n",
      "306530               0             0            1         0       1   \n",
      "306531               0             0            1         0       1   \n",
      "306532               0             0            1         0       1   \n",
      "306533               0             0            1         0       1   \n",
      "\n",
      "                            offer_id_num  amount_num  reward  reward_num  \n",
      "306504                                 0        4.89       0           0  \n",
      "306505                                 0        4.48       0           0  \n",
      "306506  fafdcd668e3743c1bb461111dcafc2a4        0.00       1           2  \n",
      "306507  0b1e1539f2cc45b7b9fa7c272da2e1d7        0.00       0           0  \n",
      "306508                                 0        1.19       0           0  \n",
      "306509  fafdcd668e3743c1bb461111dcafc2a4        0.00       1           2  \n",
      "306510                                 0       14.31       0           0  \n",
      "306511                                 0        2.37       0           0  \n",
      "306512                                 0        6.92       0           0  \n",
      "306513                                 0       12.73       0           0  \n",
      "306514                                 0        8.20       0           0  \n",
      "306515                                 0        2.60       0           0  \n",
      "306516                                 0        9.20       0           0  \n",
      "306517                                 0       11.70       0           0  \n",
      "306518                                 0       40.67       0           0  \n",
      "306519                                 0       31.13       0           0  \n",
      "306520                                 0        1.64       0           0  \n",
      "306521                                 0       17.35       0           0  \n",
      "306522                                 0        4.42       0           0  \n",
      "306523                                 0       18.35       0           0  \n",
      "306524                                 0       25.14       0           0  \n",
      "306525                                 0       43.58       0           0  \n",
      "306526                                 0       22.64       0           0  \n",
      "306527  fafdcd668e3743c1bb461111dcafc2a4        0.00       1           2  \n",
      "306528                                 0        2.20       0           0  \n",
      "306529                                 0        1.59       0           0  \n",
      "306530                                 0        9.53       0           0  \n",
      "306531                                 0        3.61       0           0  \n",
      "306532                                 0        3.53       0           0  \n",
      "306533                                 0        4.05       0           0  \n"
     ]
    }
   ],
   "source": [
    "list(transcript.value[0].keys())[0] == 'offer id'\n",
    "transcript['offer_id'] =  transcript.value.apply( lambda row :  1 if(list(row.keys())[0] == 'offer_id') else 0 )\n",
    "transcript['amount'] =transcript.value.apply( lambda row :  1 if(list(row.keys())[0] == 'amount') else 0 )\n",
    "transcript['offer_id_num'] =transcript.value.apply( lambda row :  list(row.values())[0]  if(list(row.keys())[0] == 'offer_id') else 0 )\n",
    "transcript['amount_num'] =transcript.value.apply( lambda row :  list(row.values())[0] if(list(row.keys())[0] == 'amount') else 0 )\n",
    "transcript['reward'] =  transcript.value.apply( lambda row :  1 if(len(list(row.keys())) == 2) else 0 )\n",
    "transcript['reward_num'] =transcript.value.apply( lambda row :  list(row.values())[1]  if(len(list(row.keys())) == 2) else 0 )\n",
    "\n",
    "print(transcript.tail(30))"
   ]
  },
  {
   "cell_type": "markdown",
   "metadata": {},
   "source": [
    "## 2.h. Merge all the data in one usable data frame"
   ]
  },
  {
   "cell_type": "markdown",
   "metadata": {},
   "source": [
    "To analyze further and apply some machine learning algorithm, we need to merger all the data, together and drop some columns"
   ]
  },
  {
   "cell_type": "code",
   "execution_count": 713,
   "metadata": {},
   "outputs": [
    {
     "name": "stdout",
     "output_type": "stream",
     "text": [
      "                time  offer completed  offer received   offer viewed  \\\n",
      "count  272762.000000    272762.000000   272762.000000  272762.000000   \n",
      "mean      366.707694         0.118946        0.243806       0.182797   \n",
      "std       200.359087         0.323726        0.429378       0.386500   \n",
      "min         0.000000         0.000000        0.000000       0.000000   \n",
      "25%       186.000000         0.000000        0.000000       0.000000   \n",
      "50%       408.000000         0.000000        0.000000       0.000000   \n",
      "75%       528.000000         0.000000        0.000000       0.000000   \n",
      "max       714.000000         1.000000        1.000000       1.000000   \n",
      "\n",
      "         transaction       offer_id         amount     amount_num  \\\n",
      "count  272762.000000  272762.000000  272762.000000  272762.000000   \n",
      "mean        0.454451       0.545549       0.454451       6.360646   \n",
      "std         0.497922       0.497922       0.497922      22.509207   \n",
      "min         0.000000       0.000000       0.000000       0.000000   \n",
      "25%         0.000000       0.000000       0.000000       0.000000   \n",
      "50%         0.000000       1.000000       0.000000       0.000000   \n",
      "75%         1.000000       1.000000       1.000000       9.140000   \n",
      "max         1.000000       1.000000       1.000000    1062.280000   \n",
      "\n",
      "            reward_x     reward_num  ...         mobile            web  \\\n",
      "count  272762.000000  272762.000000  ...  148805.000000  148805.000000   \n",
      "mean        0.118946       0.588575  ...       0.917160       0.806747   \n",
      "std         0.323726       1.889452  ...       0.275641       0.394851   \n",
      "min         0.000000       0.000000  ...       0.000000       0.000000   \n",
      "25%         0.000000       0.000000  ...       1.000000       1.000000   \n",
      "50%         0.000000       0.000000  ...       1.000000       1.000000   \n",
      "75%         0.000000       0.000000  ...       1.000000       1.000000   \n",
      "max         1.000000      10.000000  ...       1.000000       1.000000   \n",
      "\n",
      "                bogo       discount  informational            age  \\\n",
      "count  148805.000000  148805.000000  148805.000000  272762.000000   \n",
      "mean        0.428978       0.418743       0.152280      53.840696   \n",
      "std         0.494932       0.493355       0.359293      17.551337   \n",
      "min         0.000000       0.000000       0.000000      18.000000   \n",
      "25%         0.000000       0.000000       0.000000      41.000000   \n",
      "50%         0.000000       0.000000       0.000000      55.000000   \n",
      "75%         1.000000       1.000000       0.000000      66.000000   \n",
      "max         1.000000       1.000000       1.000000     101.000000   \n",
      "\n",
      "              income              F              M              O  \n",
      "count  272762.000000  272762.000000  272762.000000  272762.000000  \n",
      "mean    64337.000755       0.414651       0.570791       0.014558  \n",
      "std     21243.762941       0.492663       0.494964       0.119777  \n",
      "min     30000.000000       0.000000       0.000000       0.000000  \n",
      "25%     48000.000000       0.000000       0.000000       0.000000  \n",
      "50%     62000.000000       0.000000       1.000000       0.000000  \n",
      "75%     78000.000000       1.000000       1.000000       0.000000  \n",
      "max    120000.000000       1.000000       1.000000       1.000000  \n",
      "\n",
      "[8 rows x 25 columns]\n",
      "306423    0.0\n",
      "306430    0.0\n",
      "306440    0.0\n",
      "306444    0.0\n",
      "306455    0.0\n",
      "306456    0.0\n",
      "306470    0.0\n",
      "306475    0.0\n",
      "306509    0.0\n",
      "306527    0.0\n",
      "Name: amount_num, dtype: float64\n",
      "Index(['person', 'time', 'offer completed', 'offer received', 'offer viewed',\n",
      "       'transaction', 'offer_id', 'amount', 'offer_id_num', 'amount_num',\n",
      "       'reward_x', 'reward_num', 'difficulty', 'duration', 'id_x', 'reward_y',\n",
      "       'email', 'social', 'mobile', 'web', 'bogo', 'discount', 'informational',\n",
      "       'age', 'became_member_on', 'id_y', 'income', 'F', 'M', 'O'],\n",
      "      dtype='object')\n"
     ]
    }
   ],
   "source": [
    "portfolio = portfolio.drop(['channels' , 'offer_type'],axis = 1)\n",
    "profile = profile.drop(['gender'],axis = 1)\n",
    "transcript= transcript.drop(['event', 'value'],axis = 1)\n",
    "df = transcript.merge(portfolio , how = 'left' ,  left_on ='offer_id_num'  ,right_on='id')\n",
    "df = df.merge(profile , how = 'left' ,  left_on ='person'  ,right_on='id')\n",
    "df = df.dropna(subset = ['income'] , axis=0,)\n",
    "print(df.describe())\n",
    "print(df[df['offer completed'] ==1 ].tail(10).amount_num)\n",
    "print(df.columns)"
   ]
  },
  {
   "cell_type": "markdown",
   "metadata": {},
   "source": [
    "Clearly, this is not the end, the file does combine very different interaction and we will need to engineer features to have a reliable model."
   ]
  },
  {
   "cell_type": "markdown",
   "metadata": {},
   "source": [
    "# 3. Problem statement, model design and features needed"
   ]
  },
  {
   "cell_type": "markdown",
   "metadata": {},
   "source": [
    "What kind of problem are we aiming to solve?  \n",
    "We want to estimate based on the demographics, which offer method is more effective.  \n",
    "Here, we already see one major issue: What is effective?  \n",
    "- It could be just about creating more and more awareness and therefore bringing them to the store to spend money for the one time gain.  \n",
    "- It could also be more seen on a long term basis. Does it bring value overtime?\n",
    "\n",
    "Clearly data is missing for the second part, we only have data for about 30 days which probably too little to have such results.  \n",
    "\n",
    "So we will focus on analysis the following:\n",
    "- Which time of add is the most effective? (compared to other add and control group)\n",
    "- Which offer drives most revenue per day of offer?\n",
    "- Which group is more sensitive to which offer? Is it significant?\n",
    "- Do any of those leads to more repeated purchase?\n",
    "\n",
    "\n",
    "How do these objective affects the data we use and the features we need to create.  \n",
    "We need the get the new time they consume after receiving the offer and whether this affect the amount they consume. This will lead to link several rows from df.\n",
    "This should allow use to classify the users to one of the offer depending on the extra revenue this may bring."
   ]
  },
  {
   "cell_type": "markdown",
   "metadata": {},
   "source": [
    "# 4. Naive forcasting"
   ]
  },
  {
   "cell_type": "markdown",
   "metadata": {},
   "source": [
    "We focus on the completion rate forecast. We reshape the data to have 1 offer sent = 1 line"
   ]
  },
  {
   "cell_type": "code",
   "execution_count": 714,
   "metadata": {},
   "outputs": [
    {
     "name": "stdout",
     "output_type": "stream",
     "text": [
      "Index(['person', 'time', 'offer completed', 'offer received', 'offer viewed',\n",
      "       'transaction', 'offer_id', 'amount', 'offer_id_num', 'amount_num',\n",
      "       'reward_x', 'reward_num', 'difficulty', 'duration', 'id_x', 'reward_y',\n",
      "       'email', 'social', 'mobile', 'web', 'bogo', 'discount', 'informational',\n",
      "       'age', 'became_member_on', 'id_y', 'income', 'F', 'M', 'O'],\n",
      "      dtype='object')\n"
     ]
    }
   ],
   "source": [
    "def create_data_completion(df=df):\n",
    "    '''\n",
    "    Create the data set for the completion rate analysis\n",
    "    INPUT:\n",
    "    - DF the data frame from part 3.\n",
    "    OUTPUT:\n",
    "    - new_df containing each offer with the outcome on the same line\n",
    "    '''\n",
    "#    new_df = df[offer_id_num ~= '0']\n",
    "\n",
    "    df = df.assign(id_person=(df['person']).astype('category').cat.codes)\n",
    "    df = df.assign(id_off=(df['offer_id']).astype('category').cat.codes)\n",
    "    df = df.sort_values(by=['id_person' , 'time'])\n",
    "    df['time_completed'] =0 # for completed, we will put a 1 when there is a transaction within\n",
    "    # 7 days = 168h\n",
    "    df['time_view'] = 0\n",
    "    # the following looks ugly but traditional search in DataFrame are too slow\n",
    "    for i in range(df.shape[0]):\n",
    "        j=i-1\n",
    "        if df.iloc[i, 2]:\n",
    "            while df.iloc[i, 0] == df.iloc[j, 0]:\n",
    "                if df.iloc[j, 5] & (df.iloc[i, 1] == df.iloc[j, 1]) : \n",
    "                    df.iloc[  i , 9]= df.iloc[  j , 9] \n",
    "                    break\n",
    "                j-=1\n",
    "                if j<0:\n",
    "                    break\n",
    "\n",
    "    for i in range(df.shape[0]):\n",
    "        j=i+1\n",
    "        if df.iloc[i, 3]:\n",
    "            while df.iloc[i, 0] == df.iloc[j, 0]:\n",
    "                if df.iloc[j, 4] & (df.iloc[i, 8] == df.iloc[j, 8]) :\n",
    "                    df.iloc[  i , 33]= df.iloc[  j , 1]   \n",
    "                #print(df.iloc[i, 22] , df.iloc[j, 5]  , ( (df.iloc[j, 1]-df.iloc[i, 1]) <= (24*df.iloc[i, 13])))\n",
    "                if int(df.iloc[i, 22]) & df.iloc[j, 5]  :\n",
    "                    if  (df.iloc[j, 1]-df.iloc[i, 1]) <= (24*df.iloc[i, 13]) :\n",
    "                        df.iloc[  i , 32]= df.iloc[  j , 1]   \n",
    "                if df.iloc[j, 2] & (df.iloc[i, 8] == df.iloc[j, 8] ):\n",
    "                    df.iloc[  i , 32]= df.iloc[  j , 1]   \n",
    "                    df.iloc[  i , 11]= df.iloc[  j , 11]   \n",
    "                    df.iloc[  i , 9]= df.iloc[  j , 9] \n",
    "                    break\n",
    "                j+=1\n",
    "\n",
    "    df=df[df['offer received']==1]\n",
    "\n",
    "    return df\n",
    "                    \n",
    "print(df.columns)\n",
    "new_df = create_data_completion(df)            \n",
    "\n",
    "    "
   ]
  },
  {
   "cell_type": "code",
   "execution_count": 715,
   "metadata": {},
   "outputs": [
    {
     "name": "stdout",
     "output_type": "stream",
     "text": [
      "Index(['person', 'time', 'offer completed', 'offer received', 'offer viewed',\n",
      "       'transaction', 'offer_id', 'amount', 'offer_id_num', 'amount_num',\n",
      "       'reward_x', 'reward_num', 'difficulty', 'duration', 'id_x', 'reward_y',\n",
      "       'email', 'social', 'mobile', 'web', 'bogo', 'discount', 'informational',\n",
      "       'age', 'became_member_on', 'id_y', 'income', 'F', 'M', 'O', 'id_person',\n",
      "       'id_off', 'time_completed', 'time_view'],\n",
      "      dtype='object')\n"
     ]
    }
   ],
   "source": [
    "print(new_df.columns)\n",
    "new_df = new_df[['person', 'time', 'offer completed', 'offer received', 'offer viewed',\n",
    "                     'transaction', 'offer_id', 'amount', 'offer_id_num', 'amount_num',\n",
    "                     'reward_num', 'difficulty', 'duration',\n",
    "                     'email', 'social', 'mobile', 'web', 'bogo', 'discount', 'informational', 'reward_y',\n",
    "                     'age', 'became_member_on', 'income', 'F', 'M', 'O', 'id_person',\n",
    "                     'id_off', 'time_completed', 'time_view']]"
   ]
  },
  {
   "cell_type": "code",
   "execution_count": 716,
   "metadata": {},
   "outputs": [
    {
     "name": "stdout",
     "output_type": "stream",
     "text": [
      "         reward_num   difficulty      duration        social        mobile  \\\n",
      "count  66501.000000  66501.00000  66501.000000  66501.000000  66501.000000   \n",
      "mean       2.510098      7.71417      6.507571      0.598517      0.898859   \n",
      "std        3.228628      5.54754      2.204416      0.490202      0.301518   \n",
      "min        0.000000      0.00000      3.000000      0.000000      0.000000   \n",
      "25%        0.000000      5.00000      5.000000      0.000000      1.000000   \n",
      "50%        2.000000     10.00000      7.000000      1.000000      1.000000   \n",
      "75%        5.000000     10.00000      7.000000      1.000000      1.000000   \n",
      "max       10.000000     20.00000     10.000000      1.000000      1.000000   \n",
      "\n",
      "                web          bogo      discount    email  informational  \\\n",
      "count  66501.000000  66501.000000  66501.000000  66501.0   66501.000000   \n",
      "mean       0.799612      0.399047      0.400956      1.0       0.199997   \n",
      "std        0.400294      0.489706      0.490096      0.0       0.400001   \n",
      "min        0.000000      0.000000      0.000000      1.0       0.000000   \n",
      "25%        1.000000      0.000000      0.000000      1.0       0.000000   \n",
      "50%        1.000000      0.000000      0.000000      1.0       0.000000   \n",
      "75%        1.000000      1.000000      1.000000      1.0       0.000000   \n",
      "max        1.000000      1.000000      1.000000      1.0       1.000000   \n",
      "\n",
      "                age         income             F             M             O  \\\n",
      "count  66501.000000   66501.000000  66501.000000  66501.000000  66501.000000   \n",
      "mean      54.369258   65371.618472      0.412866      0.573360      0.013774   \n",
      "std       17.395430   21623.288473      0.492353      0.494593      0.116553   \n",
      "min       18.000000   30000.000000      0.000000      0.000000      0.000000   \n",
      "25%       42.000000   49000.000000      0.000000      0.000000      0.000000   \n",
      "50%       55.000000   64000.000000      0.000000      1.000000      0.000000   \n",
      "75%       66.000000   80000.000000      1.000000      1.000000      0.000000   \n",
      "max      101.000000  120000.000000      1.000000      1.000000      1.000000   \n",
      "\n",
      "         membership    view_offer     buy_offer  \n",
      "count  6.650100e+04  66501.000000  66501.000000  \n",
      "mean   5.816177e+05      0.546533      0.597149  \n",
      "std    6.036731e+05      0.497834      0.490475  \n",
      "min   -1.699200e+05      0.000000      0.000000  \n",
      "25%    1.296000e+05      0.000000      0.000000  \n",
      "50%    3.456000e+05      1.000000      1.000000  \n",
      "75%    9.792000e+05      1.000000      1.000000  \n",
      "max    2.455200e+06      1.000000      1.000000  \n"
     ]
    }
   ],
   "source": [
    "def create_time_diff_view(df):\n",
    "    df['time_diff_view'] =  (df.time_view - df.time)\n",
    "    df.time_diff_view[ df.time_diff_view<0 ] = 0\n",
    "    return df\n",
    "    \n",
    "def create_time_diff_completed(df):\n",
    "    df['time_diff_completed'] =  (df.time_completed - df.time).apply(lambda row: np.max(row,0))\n",
    "    df.time_diff_completed[ df.time_diff_completed<0 ] = 0\n",
    "    return df\n",
    "    \n",
    "def create_month_membership(df):\n",
    "    df['membership'] =  df.became_member_on.apply(lambda row: datetime.datetime(year=2018, month= 3, day=30) -  row)  \n",
    "    return df\n",
    "\n",
    "def create_categorical_view(df):\n",
    "    df['view_offer'] =  df['time_diff_view'].apply(lambda row: 1 if row>0 else 0)\n",
    "    return df\n",
    "\n",
    "def create_categorical_buy(df):\n",
    "    df['buy_offer'] =  df['time_diff_completed'].apply(lambda row: 1 if row>0 else 0)\n",
    "    return df\n",
    "\n",
    "new_df=create_time_diff_view(new_df)\n",
    "new_df=create_time_diff_completed(new_df)\n",
    "new_df=create_month_membership(new_df)\n",
    "new_df=create_categorical_view(new_df)\n",
    "new_df=create_categorical_buy(new_df)\n",
    "new_df.membership = new_df.membership.apply(lambda row : row.total_seconds()/60)\n",
    "\n",
    "new_df_regression = new_df[[ 'reward_num', 'difficulty', 'duration', 'social', 'mobile',\n",
    "       'web', 'bogo', 'discount','email', 'informational', 'age','income', 'F', 'M', 'O',  'membership',\n",
    "       'view_offer', 'buy_offer']]\n",
    "#print(new_df_regression.tail(20))\n",
    "print(new_df_regression.describe())"
   ]
  },
  {
   "cell_type": "markdown",
   "metadata": {},
   "source": [
    "So the Data is cleaned and ready to be used for some modeling. First we want to explain classify the offers to use based on the success (being view and got to buy it)"
   ]
  },
  {
   "cell_type": "code",
   "execution_count": 717,
   "metadata": {},
   "outputs": [
    {
     "name": "stdout",
     "output_type": "stream",
     "text": [
      "running buy_offer bogo then discount then informational\n",
      "Best score and parameter combination = \n",
      "0.5636176772867421\n",
      "Best score and parameter combination = \n",
      "0.6336856460961473\n",
      "Best score and parameter combination = \n",
      "0.6187286397812714\n",
      "runnin buy offer all\n",
      "Best score and parameter combination = \n",
      "0.5980314422419686\n",
      "running view_offer bogo then discount then informational\n",
      "Best score and parameter combination = \n",
      "0.573963686193902\n",
      "Best score and parameter combination = \n",
      "0.5731333106034777\n",
      "Best score and parameter combination = \n",
      "0.6180451127819548\n",
      "runnin view_offer all\n",
      "Best score and parameter combination = \n",
      "0.5468215994531784\n"
     ]
    }
   ],
   "source": [
    "\n",
    "def build_model():\n",
    "    pipeline = Pipeline([\n",
    "        (\"feature_select\", SelectPercentile()),\n",
    "        (\"model\", LogisticRegression(random_state=42))\n",
    "    ])\n",
    "    params = {\n",
    "        \"feature_select__percentile\":[ 100],\n",
    "    }\n",
    "    # train the second model\n",
    "\n",
    "    cv  = GridSearchCV(pipeline, param_grid=params,verbose=0,n_jobs=4,cv=10)\n",
    "    return cv\n",
    "def model_data(new_df_regression, y_forcasted, restrict_offer_col =[] ):\n",
    "\n",
    "    if len(restrict_offer_col) >0:\n",
    "        diff = set(['bogo', 'discount', 'informational']).difference(   set(restrict_offer_col) )\n",
    "        X = new_df_regression[new_df_regression[restrict_offer_col[0]] == 1]\n",
    "        X = X.drop(['bogo', 'discount', 'informational'], axis=1)\n",
    "    else:\n",
    "        X = new_df_regression\n",
    "    if y_forcasted =='view_offer':\n",
    "        y = X[ 'view_offer']\n",
    "        X = X.drop(['view_offer', 'buy_offer'], axis=1)\n",
    "    else: \n",
    "        y = X[ 'buy_offer']\n",
    "        X = X.drop(['view_offer', 'buy_offer'], axis=1)\n",
    "    X_train, X_test, y_train, y_test = train_test_split(X, y, test_size=.45, random_state=42, shuffle=True)\n",
    "\n",
    "    model = build_model()\n",
    "    model.fit(X_train, y_train)\n",
    "    y_pred = model.predict(X_test)\n",
    "    print('Best score and parameter combination = ')\n",
    "    print(model.best_score_)   \n",
    "    return model\n",
    "print('running buy_offer bogo then discount then informational')\n",
    "model = model_data(new_df_regression, 'buy_offer', restrict_offer_col =['bogo'] )\n",
    "model_buy_d = model_data(new_df_regression, 'buy_offer', restrict_offer_col =['discount'] )\n",
    "model = model_data(new_df_regression, 'buy_offer', restrict_offer_col =['informational'] )\n",
    "print('runnin buy offer all')\n",
    "model_buy = model_data(new_df_regression, 'buy_offer', restrict_offer_col =[] )\n",
    "\n",
    "print('running view_offer bogo then discount then informational')\n",
    "model = model_data(new_df_regression, 'view_offer', restrict_offer_col =['bogo'] )\n",
    "model = model_data(new_df_regression, 'view_offer', restrict_offer_col =['discount'] )\n",
    "model = model_data(new_df_regression, 'view_offer', restrict_offer_col =['informational'] )\n",
    "print('runnin view_offer all')\n",
    "model = model_data(new_df_regression, 'view_offer', restrict_offer_col =[] )"
   ]
  },
  {
   "cell_type": "code",
   "execution_count": 718,
   "metadata": {},
   "outputs": [
    {
     "data": {
      "text/plain": [
       "\"\\nprint(  np.sum( (y_pred - y_test.values)**2) / len(y_test.values) )\\nprint( model_buy_d.best_estimator_.steps[1][1].coef_) \\nprint(model.best_estimator_.steps[0][1].scores_)\\npd.DataFrame(data = {  'col' : X_test.columns , \\n                     'scores viewing' :model.best_estimator_.steps[0][1].scores_ ,\\n                     'values viewing' :model.best_estimator_.steps[1][1].coef_[0] })\\npd.DataFrame(data = {  'col' : X_test.columns ,                      \\n                     'scores buying' :model_buy.best_estimator_.steps[0][1].scores_ ,\\n                     'values buying' :model_buy.best_estimator_.steps[1][1].coef_[0] })\\n\""
      ]
     },
     "execution_count": 718,
     "metadata": {},
     "output_type": "execute_result"
    }
   ],
   "source": [
    "\n",
    "'''\n",
    "print(  np.sum( (y_pred - y_test.values)**2) / len(y_test.values) )\n",
    "print( model_buy_d.best_estimator_.steps[1][1].coef_) \n",
    "print(model.best_estimator_.steps[0][1].scores_)\n",
    "pd.DataFrame(data = {  'col' : X_test.columns , \n",
    "                     'scores viewing' :model.best_estimator_.steps[0][1].scores_ ,\n",
    "                     'values viewing' :model.best_estimator_.steps[1][1].coef_[0] })\n",
    "pd.DataFrame(data = {  'col' : X_test.columns ,                      \n",
    "                     'scores buying' :model_buy.best_estimator_.steps[0][1].scores_ ,\n",
    "                     'values buying' :model_buy.best_estimator_.steps[1][1].coef_[0] })\n",
    "'''"
   ]
  },
  {
   "cell_type": "markdown",
   "metadata": {},
   "source": [
    "Are the results good?\n",
    "For the view forecast: not at all. 54% of correct prediction is exactly the result you would have by saying every single offer will lead to the consumer viewing it. For the buying, we do much better because we managed 59%.\n",
    "\n",
    "\n",
    "# 5. Data Science in a smarter way\n",
    "\n",
    "So we put everything we had into 1 model and this did not produce meaningful result. We go back to the drwaing board and try to get some more insight into some useful correlations that can help us to build a model.\n",
    "\n",
    "In this part, we analyse first analyse correlation between democraphics and completion of offer.\n",
    "\n",
    "## 5.a Age\n",
    "\n",
    "\n"
   ]
  },
  {
   "cell_type": "code",
   "execution_count": 719,
   "metadata": {},
   "outputs": [
    {
     "data": {
      "image/png": "[encoded data removed]",
      "text/plain": [
       "<Figure size 432x288 with 1 Axes>"
      ]
     },
     "metadata": {
      "needs_background": "light"
     },
     "output_type": "display_data"
    }
   ],
   "source": [
    "# define a function to help plot figures\n",
    "def plot_age_trans_mean(df):\n",
    "    '''Plot scatters, x axis is age, y axis is mean value of completion\n",
    "    INPUT:\n",
    "        col_name(str) - column name of trans_tot, trans_avg, and off_drive_ratio\n",
    "    OUTPUT:\n",
    "        \n",
    "    '''\n",
    "    view_avg_by_age = df.groupby('age').mean()['view_offer']\n",
    "    avg_by_age = df.groupby('age').mean()['buy_offer']\n",
    "    plt.scatter(avg_by_age.index, avg_by_age, color = '#00A0A0');\n",
    "    plt.scatter(view_avg_by_age.index, view_avg_by_age, color = '#C0B0A0');\n",
    "    plt.xlabel('age');\n",
    "    plt.legend(['buy', 'view'], bbox_to_anchor=(1.00, 0.5), loc=3);\n",
    "plot_age_trans_mean(new_df_regression)\n",
    "plt.ylabel('proportion completion');\n",
    "plt.title('Mean proportion of success per age', fontsize=12);"
   ]
  },
  {
   "cell_type": "markdown",
   "metadata": {},
   "source": [
    "Here, it get more interesting:\n",
    "- First the likelyhood of a buy following an offer is larger with the age\n",
    "- Secondly the behavior is difference for viewing it.\n",
    "Some older people do use the offer without seeing them? possible.\n",
    "\n",
    "To go further, we can have a look at whether their is difference per offer"
   ]
  },
  {
   "cell_type": "code",
   "execution_count": 720,
   "metadata": {},
   "outputs": [
    {
     "data": {
      "image/png": "[encoded data removed]",
      "text/plain": [
       "<Figure size 432x288 with 1 Axes>"
      ]
     },
     "metadata": {
      "needs_background": "light"
     },
     "output_type": "display_data"
    }
   ],
   "source": [
    "def plot_age_offer_mean(df_ori, col = 'buy_offer'):\n",
    "    '''Plot scatters, x axis is age, y axis is mean value of completion\n",
    "    INPUT:\n",
    "        col_name(str) - column name of trans_tot, trans_avg, and off_drive_ratio\n",
    "    OUTPUT:\n",
    "        \n",
    "    '''\n",
    "    df = df_ori[df_ori.informational == 1 ]\n",
    "    info_avg_by_age = df.groupby('age').mean()[col]\n",
    "    df = df_ori[df_ori.discount == 1 ]\n",
    "    dis_avg_by_age = df.groupby('age').mean()[col]\n",
    "    df = df_ori[df_ori.bogo == 1 ]\n",
    "    bogo_avg_by_age = df.groupby('age').mean()[col]\n",
    "    plt.scatter(info_avg_by_age.index, info_avg_by_age, color = '#00A0A0');\n",
    "    plt.scatter(dis_avg_by_age.index, dis_avg_by_age, color = '#B0B0A0');\n",
    "    plt.scatter(bogo_avg_by_age.index, bogo_avg_by_age, color = '#E0B3A0');\n",
    "    plt.xlabel('age');\n",
    "    plt.legend(['informational', 'dicount', 'BOGO'], bbox_to_anchor=(1.00, 0.5), loc=3);\n",
    "plot_age_offer_mean(new_df_regression)\n",
    "plt.ylabel('proportion completion');\n",
    "plt.title('Mean proportion of success per age', fontsize=12);"
   ]
  },
  {
   "cell_type": "markdown",
   "metadata": {},
   "source": [
    "The picture is clearer here, Informational offer and considered succesfull if there is one consumption within 1 week and this is probably too optimistic because it assumes that the comsuption is coming from this add but this is unlikely to be the case.  \n",
    "One other interesting fact is that discount offer are constently above the the BOGO offers in term of completion rates.  \n",
    "Such offer are more effective for people in the age bracket of 45-70 year old.\n",
    "\n",
    "## 5.b Income"
   ]
  },
  {
   "cell_type": "code",
   "execution_count": 721,
   "metadata": {},
   "outputs": [
    {
     "data": {
      "image/png": "[encoded data removed]",
      "text/plain": [
       "<Figure size 432x288 with 1 Axes>"
      ]
     },
     "metadata": {
      "needs_background": "light"
     },
     "output_type": "display_data"
    },
    {
     "data": {
      "image/png": "[encoded data removed]",
      "text/plain": [
       "<Figure size 432x288 with 1 Axes>"
      ]
     },
     "metadata": {
      "needs_background": "light"
     },
     "output_type": "display_data"
    }
   ],
   "source": [
    "def plot_income_trans_mean(df):\n",
    "    '''Plot scatters, x axis is age, y axis is mean value of completion\n",
    "    INPUT:\n",
    "        col_name(str) - column name of trans_tot, trans_avg, and off_drive_ratio\n",
    "    OUTPUT:\n",
    "        \n",
    "    '''\n",
    "    view_avg_by_age = df.groupby('income').mean()['view_offer']\n",
    "    avg_by_age = df.groupby('income').mean()['buy_offer']\n",
    "    plt.scatter(avg_by_age.index, avg_by_age, color = '#00A0A0');\n",
    "    plt.scatter(view_avg_by_age.index, view_avg_by_age, color = '#C0B0A0');\n",
    "    plt.xlabel('income');\n",
    "    plt.legend(['buy', 'view'], bbox_to_anchor=(1.00, 0.5), loc=3);\n",
    "def plot_income_offer_mean(df_ori, col = 'buy_offer'):\n",
    "    '''Plot scatters, x axis is age, y axis is mean value of completion\n",
    "    INPUT:\n",
    "        col_name(str) - column name of trans_tot, trans_avg, and off_drive_ratio\n",
    "    OUTPUT:\n",
    "        \n",
    "    '''\n",
    "    df = df_ori[df_ori.informational == 1 ]\n",
    "    info_avg_by_age = df.groupby('income').mean()[col]\n",
    "    df = df_ori[df_ori.discount == 1 ]\n",
    "    dis_avg_by_age = df.groupby('income').mean()[col]\n",
    "    df = df_ori[df_ori.bogo == 1 ]\n",
    "    bogo_avg_by_age = df.groupby('income').mean()[col]\n",
    "    plt.scatter(info_avg_by_age.index, info_avg_by_age, color = '#00A0A0');\n",
    "    plt.scatter(dis_avg_by_age.index, dis_avg_by_age, color = '#B0B0A0');\n",
    "    plt.scatter(bogo_avg_by_age.index, bogo_avg_by_age, color = '#E0B3A0');\n",
    "    plt.xlabel('income');\n",
    "    plt.legend(['informational', 'dicount', 'BOGO'], bbox_to_anchor=(1.00, 0.5), loc=3);\n",
    "plot_income_trans_mean(new_df_regression)\n",
    "plt.ylabel('proportion completion');\n",
    "plt.title('Mean proportion of success per age', fontsize=12);\n",
    "plt.show()\n",
    "plot_income_offer_mean(new_df_regression)\n",
    "plt.ylabel('proportion completion');\n",
    "plt.title('Mean proportion of success per age', fontsize=12);"
   ]
  },
  {
   "cell_type": "markdown",
   "metadata": {},
   "source": [
    "So the wealthier you are, the more you tend to use discount and BOGO offer. \n",
    "This is probably link to the fact that they go to Starbucks more frequently. One more time, the relation is not really linear.\n",
    "\n",
    "## 5.c Membership "
   ]
  },
  {
   "cell_type": "code",
   "execution_count": 722,
   "metadata": {},
   "outputs": [
    {
     "data": {
      "image/png": "[encoded data removed]",
      "text/plain": [
       "<Figure size 432x288 with 1 Axes>"
      ]
     },
     "metadata": {
      "needs_background": "light"
     },
     "output_type": "display_data"
    },
    {
     "data": {
      "image/png": "[encoded data removed]",
      "text/plain": [
       "<Figure size 432x288 with 1 Axes>"
      ]
     },
     "metadata": {
      "needs_background": "light"
     },
     "output_type": "display_data"
    }
   ],
   "source": [
    "def plot_membership_trans_mean(df):\n",
    "    '''Plot scatters, x axis is age, y axis is mean value of completion\n",
    "    INPUT:\n",
    "        col_name(str) - column name of trans_tot, trans_avg, and off_drive_ratio\n",
    "    OUTPUT:\n",
    "        \n",
    "    '''\n",
    "    view_avg_by_age = df.groupby('membership').mean()['view_offer']\n",
    "    avg_by_age = df.groupby('membership').mean()['buy_offer']\n",
    "    plt.scatter(avg_by_age.index, avg_by_age, color = '#00A0A0');\n",
    "    plt.scatter(view_avg_by_age.index, view_avg_by_age, color = '#C0B0A0');\n",
    "    plt.xlabel('membership');\n",
    "    plt.legend(['buy', 'view'], bbox_to_anchor=(1.00, 0.5), loc=3);\n",
    "def plot_membership_offer_mean(df_ori, col = 'buy_offer'):\n",
    "    '''Plot scatters, x axis is age, y axis is mean value of completion\n",
    "    INPUT:\n",
    "        col_name(str) - column name of trans_tot, trans_avg, and off_drive_ratio\n",
    "    OUTPUT:\n",
    "        \n",
    "    '''\n",
    "    df = df_ori[df_ori.informational == 1 ]\n",
    "    info_avg_by_age = df.groupby('membership').mean()[col]\n",
    "    df = df_ori[df_ori.discount == 1 ]\n",
    "    dis_avg_by_age = df.groupby('membership').mean()[col]\n",
    "    df = df_ori[df_ori.bogo == 1 ]\n",
    "    bogo_avg_by_age = df.groupby('membership').mean()[col]\n",
    "    plt.scatter(info_avg_by_age.index, info_avg_by_age, color = '#00A0A0');\n",
    "    plt.scatter(dis_avg_by_age.index, dis_avg_by_age, color = '#B0B0A0');\n",
    "    plt.scatter(bogo_avg_by_age.index, bogo_avg_by_age, color = '#E0B3A0');\n",
    "    plt.xlabel('membership');\n",
    "    plt.legend(['informational', 'dicount', 'BOGO'], bbox_to_anchor=(1.00, 0.5), loc=3);\n",
    "plot_membership_trans_mean(new_df_regression)\n",
    "plt.ylabel('proportion completion');\n",
    "plt.title('Mean proportion of success per age', fontsize=12);\n",
    "plt.show()\n",
    "plot_membership_offer_mean(new_df_regression)\n",
    "plt.ylabel('proportion completion');\n",
    "plt.title('Mean proportion of success per age', fontsize=12);"
   ]
  },
  {
   "cell_type": "markdown",
   "metadata": {},
   "source": [
    "Results are less intuitive here, but they do suggest that the more you stay in the program, the more you use the offer. "
   ]
  },
  {
   "cell_type": "markdown",
   "metadata": {},
   "source": [
    "## 5.d Which channel?"
   ]
  },
  {
   "cell_type": "code",
   "execution_count": 723,
   "metadata": {},
   "outputs": [
    {
     "name": "stdout",
     "output_type": "stream",
     "text": [
      "Index(['reward_num', 'difficulty', 'duration', 'social', 'mobile', 'web',\n",
      "       'bogo', 'discount', 'email', 'informational', 'age', 'income', 'F', 'M',\n",
      "       'O', 'membership', 'view_offer', 'buy_offer'],\n",
      "      dtype='object')\n",
      "                             buy_offer  view_offer\n",
      "informational bogo discount                       \n",
      "0.0           0.0  1.0        0.629838    0.483873\n",
      "              1.0  0.0        0.556581    0.574971\n",
      "1.0           0.0  0.0        0.612556    0.615414\n",
      "                         buy_offer  view_offer\n",
      "social mobile web email                       \n",
      "0.0    0.0    1.0 1.0     0.509961    0.271781\n",
      "       1.0    1.0 1.0     0.600561    0.406299\n",
      "1.0    1.0    0.0 1.0     0.571965    0.694357\n",
      "              1.0 1.0     0.629400    0.647719\n"
     ]
    }
   ],
   "source": [
    "col = ['buy_offer' , 'view_offer']\n",
    "print(new_df_regression.columns)\n",
    "print(new_df_regression.groupby( ['informational' , 'bogo' , 'discount']).mean()[col])\n",
    "print(new_df_regression.groupby( ['social', 'mobile', 'web' , 'email']).mean()[col])"
   ]
  },
  {
   "cell_type": "markdown",
   "metadata": {},
   "source": [
    "The only interesting conclusion is that more channels used = more reach. Web and email appear to be the weakest."
   ]
  },
  {
   "cell_type": "markdown",
   "metadata": {},
   "source": [
    "## 6. Reward, duration, amount spent and difficulty"
   ]
  },
  {
   "cell_type": "markdown",
   "metadata": {},
   "source": [
    "We still have to analyse whether the characteristics of the offer impact the proportion using it and if the amount and reward consumers are getting has an importance."
   ]
  },
  {
   "cell_type": "code",
   "execution_count": null,
   "metadata": {},
   "outputs": [],
   "source": []
  },
  {
   "cell_type": "code",
   "execution_count": 724,
   "metadata": {},
   "outputs": [
    {
     "data": {
      "text/html": [
       "<div>\n",
       "<style scoped>\n",
       "    .dataframe tbody tr th:only-of-type {\n",
       "        vertical-align: middle;\n",
       "    }\n",
       "\n",
       "    .dataframe tbody tr th {\n",
       "        vertical-align: top;\n",
       "    }\n",
       "\n",
       "    .dataframe thead th {\n",
       "        text-align: right;\n",
       "    }\n",
       "</style>\n",
       "<table border=\"1\" class=\"dataframe\">\n",
       "  <thead>\n",
       "    <tr style=\"text-align: right;\">\n",
       "      <th></th>\n",
       "      <th>reward_num</th>\n",
       "      <th>difficulty</th>\n",
       "      <th>duration</th>\n",
       "      <th>amount_num</th>\n",
       "      <th>bogo</th>\n",
       "      <th>discount</th>\n",
       "      <th>email</th>\n",
       "      <th>informational</th>\n",
       "      <th>age</th>\n",
       "      <th>income</th>\n",
       "      <th>F</th>\n",
       "      <th>M</th>\n",
       "      <th>O</th>\n",
       "      <th>membership</th>\n",
       "      <th>view_offer</th>\n",
       "      <th>buy_offer</th>\n",
       "    </tr>\n",
       "    <tr>\n",
       "      <th>reward_y</th>\n",
       "      <th></th>\n",
       "      <th></th>\n",
       "      <th></th>\n",
       "      <th></th>\n",
       "      <th></th>\n",
       "      <th></th>\n",
       "      <th></th>\n",
       "      <th></th>\n",
       "      <th></th>\n",
       "      <th></th>\n",
       "      <th></th>\n",
       "      <th></th>\n",
       "      <th></th>\n",
       "      <th></th>\n",
       "      <th></th>\n",
       "      <th></th>\n",
       "    </tr>\n",
       "  </thead>\n",
       "  <tbody>\n",
       "    <tr>\n",
       "      <th>0.0</th>\n",
       "      <td>0.000000</td>\n",
       "      <td>0.000000</td>\n",
       "      <td>3.500526</td>\n",
       "      <td>0.000000</td>\n",
       "      <td>0.000000</td>\n",
       "      <td>0.000000</td>\n",
       "      <td>1.0</td>\n",
       "      <td>1.0</td>\n",
       "      <td>54.559850</td>\n",
       "      <td>65371.729323</td>\n",
       "      <td>0.416391</td>\n",
       "      <td>0.568947</td>\n",
       "      <td>0.014662</td>\n",
       "      <td>581613.293233</td>\n",
       "      <td>0.615414</td>\n",
       "      <td>0.612556</td>\n",
       "    </tr>\n",
       "    <tr>\n",
       "      <th>2.0</th>\n",
       "      <td>1.381314</td>\n",
       "      <td>10.000000</td>\n",
       "      <td>8.502371</td>\n",
       "      <td>13.604972</td>\n",
       "      <td>0.000000</td>\n",
       "      <td>1.000000</td>\n",
       "      <td>1.0</td>\n",
       "      <td>0.0</td>\n",
       "      <td>54.295265</td>\n",
       "      <td>65434.841527</td>\n",
       "      <td>0.408341</td>\n",
       "      <td>0.578408</td>\n",
       "      <td>0.013250</td>\n",
       "      <td>581165.917338</td>\n",
       "      <td>0.514417</td>\n",
       "      <td>0.651359</td>\n",
       "    </tr>\n",
       "    <tr>\n",
       "      <th>3.0</th>\n",
       "      <td>2.263862</td>\n",
       "      <td>7.000000</td>\n",
       "      <td>7.000000</td>\n",
       "      <td>13.523163</td>\n",
       "      <td>0.000000</td>\n",
       "      <td>1.000000</td>\n",
       "      <td>1.0</td>\n",
       "      <td>0.0</td>\n",
       "      <td>54.269872</td>\n",
       "      <td>65228.099174</td>\n",
       "      <td>0.408415</td>\n",
       "      <td>0.577761</td>\n",
       "      <td>0.013824</td>\n",
       "      <td>569207.224643</td>\n",
       "      <td>0.637265</td>\n",
       "      <td>0.708039</td>\n",
       "    </tr>\n",
       "    <tr>\n",
       "      <th>5.0</th>\n",
       "      <td>3.049982</td>\n",
       "      <td>10.047781</td>\n",
       "      <td>7.351528</td>\n",
       "      <td>12.769649</td>\n",
       "      <td>0.663481</td>\n",
       "      <td>0.336519</td>\n",
       "      <td>1.0</td>\n",
       "      <td>0.0</td>\n",
       "      <td>54.410517</td>\n",
       "      <td>65274.778606</td>\n",
       "      <td>0.414720</td>\n",
       "      <td>0.570871</td>\n",
       "      <td>0.014409</td>\n",
       "      <td>583033.860009</td>\n",
       "      <td>0.424826</td>\n",
       "      <td>0.573173</td>\n",
       "    </tr>\n",
       "    <tr>\n",
       "      <th>10.0</th>\n",
       "      <td>5.464748</td>\n",
       "      <td>10.000000</td>\n",
       "      <td>6.006779</td>\n",
       "      <td>13.062291</td>\n",
       "      <td>1.000000</td>\n",
       "      <td>0.000000</td>\n",
       "      <td>1.0</td>\n",
       "      <td>0.0</td>\n",
       "      <td>54.240057</td>\n",
       "      <td>65525.986743</td>\n",
       "      <td>0.413302</td>\n",
       "      <td>0.574269</td>\n",
       "      <td>0.012428</td>\n",
       "      <td>586163.193733</td>\n",
       "      <td>0.647409</td>\n",
       "      <td>0.507984</td>\n",
       "    </tr>\n",
       "  </tbody>\n",
       "</table>\n",
       "</div>"
      ],
      "text/plain": [
       "          reward_num  difficulty  duration  amount_num      bogo  discount  \\\n",
       "reward_y                                                                     \n",
       "0.0         0.000000    0.000000  3.500526    0.000000  0.000000  0.000000   \n",
       "2.0         1.381314   10.000000  8.502371   13.604972  0.000000  1.000000   \n",
       "3.0         2.263862    7.000000  7.000000   13.523163  0.000000  1.000000   \n",
       "5.0         3.049982   10.047781  7.351528   12.769649  0.663481  0.336519   \n",
       "10.0        5.464748   10.000000  6.006779   13.062291  1.000000  0.000000   \n",
       "\n",
       "          email  informational        age        income         F         M  \\\n",
       "reward_y                                                                      \n",
       "0.0         1.0            1.0  54.559850  65371.729323  0.416391  0.568947   \n",
       "2.0         1.0            0.0  54.295265  65434.841527  0.408341  0.578408   \n",
       "3.0         1.0            0.0  54.269872  65228.099174  0.408415  0.577761   \n",
       "5.0         1.0            0.0  54.410517  65274.778606  0.414720  0.570871   \n",
       "10.0        1.0            0.0  54.240057  65525.986743  0.413302  0.574269   \n",
       "\n",
       "                 O     membership  view_offer  buy_offer  \n",
       "reward_y                                                  \n",
       "0.0       0.014662  581613.293233    0.615414   0.612556  \n",
       "2.0       0.013250  581165.917338    0.514417   0.651359  \n",
       "3.0       0.013824  569207.224643    0.637265   0.708039  \n",
       "5.0       0.014409  583033.860009    0.424826   0.573173  \n",
       "10.0      0.012428  586163.193733    0.647409   0.507984  "
      ]
     },
     "execution_count": 724,
     "metadata": {},
     "output_type": "execute_result"
    },
    {
     "data": {
      "image/png": "[encoded data removed]",
      "text/plain": [
       "<Figure size 432x288 with 1 Axes>"
      ]
     },
     "metadata": {
      "needs_background": "light"
     },
     "output_type": "display_data"
    }
   ],
   "source": [
    "df_amount = new_df[[ 'reward_num', 'difficulty', 'duration', 'amount_num' ,'reward_y',\n",
    "                    'bogo', 'discount','email', 'informational', 'age','income', 'F', 'M', 'O',  'membership',\n",
    "                    'view_offer', 'buy_offer']]\n",
    "def plot_reward_amount(df):\n",
    "    '''Plot scatters, x axis is age, y axis is mean value of completion\n",
    "    '''\n",
    "\n",
    "    plt.scatter(df.amount_num, df.reward_y, color = '#00A0A0');\n",
    "    plt.xlabel('amount_num');\n",
    "    \n",
    "plot_reward_amount(df_amount)\n",
    "df_amount.groupby('reward_y').mean()"
   ]
  },
  {
   "cell_type": "markdown",
   "metadata": {},
   "source": [
    "Looking at the last 2 columns, we see an interesting pattern: the higher the reward does not mean the higher completion rate.\n",
    "This is linked to fact that these campaigns are mostly BOGO while discount promotion attract more people."
   ]
  },
  {
   "cell_type": "markdown",
   "metadata": {},
   "source": [
    "## 7. A more refined model"
   ]
  },
  {
   "cell_type": "markdown",
   "metadata": {},
   "source": [
    "Can we get a better model than before to forcast the sucess of a campaing. First we go back to the forecast of whether someone will use the offer or now then we move to the amount and the return on the offer."
   ]
  },
  {
   "cell_type": "markdown",
   "metadata": {},
   "source": [
    "## 7.a Random forest"
   ]
  },
  {
   "cell_type": "code",
   "execution_count": 725,
   "metadata": {},
   "outputs": [
    {
     "name": "stdout",
     "output_type": "stream",
     "text": [
      "running buy_offer bogo then discount then informational\n",
      "Fitting 5 folds for each of 48 candidates, totalling 240 fits\n"
     ]
    },
    {
     "name": "stderr",
     "output_type": "stream",
     "text": [
      "[Parallel(n_jobs=4)]: Using backend LokyBackend with 4 concurrent workers.\n",
      "[Parallel(n_jobs=4)]: Done  24 tasks      | elapsed:   19.8s\n",
      "[Parallel(n_jobs=4)]: Done 120 tasks      | elapsed:  1.8min\n",
      "[Parallel(n_jobs=4)]: Done 240 out of 240 | elapsed:  3.1min finished\n"
     ]
    },
    {
     "name": "stdout",
     "output_type": "stream",
     "text": [
      "Result on the test sample: \n",
      "0.6929325071177357\n",
      "Result on the train\n",
      "0.6929085303186022\n",
      "          col  values buying\n",
      "8  membership       0.440911\n",
      "5      income       0.246076\n",
      "4         age       0.170656\n",
      "7           M       0.034840\n",
      "0  difficulty       0.032189\n",
      "2    reward_y       0.030661\n",
      "1    duration       0.029003\n",
      "6           F       0.015665\n",
      "3       email       0.000000\n",
      "Fitting 5 folds for each of 48 candidates, totalling 240 fits\n"
     ]
    },
    {
     "name": "stderr",
     "output_type": "stream",
     "text": [
      "[Parallel(n_jobs=4)]: Using backend LokyBackend with 4 concurrent workers.\n",
      "[Parallel(n_jobs=4)]: Done  24 tasks      | elapsed:   19.9s\n",
      "[Parallel(n_jobs=4)]: Done 120 tasks      | elapsed:  1.8min\n",
      "[Parallel(n_jobs=4)]: Done 240 out of 240 | elapsed:  3.1min finished\n"
     ]
    },
    {
     "name": "stdout",
     "output_type": "stream",
     "text": [
      "Result on the test sample: \n",
      "0.7148095674639554\n",
      "Result on the train\n",
      "0.7196045005114218\n",
      "          col  values buying\n",
      "8  membership       0.491315\n",
      "5      income       0.219438\n",
      "4         age       0.129326\n",
      "2    reward_y       0.045914\n",
      "0  difficulty       0.045634\n",
      "1    duration       0.028500\n",
      "7           M       0.023310\n",
      "6           F       0.016564\n",
      "3       email       0.000000\n",
      "Fitting 5 folds for each of 48 candidates, totalling 240 fits\n"
     ]
    },
    {
     "name": "stderr",
     "output_type": "stream",
     "text": [
      "[Parallel(n_jobs=4)]: Using backend LokyBackend with 4 concurrent workers.\n",
      "[Parallel(n_jobs=4)]: Done  24 tasks      | elapsed:    9.4s\n",
      "[Parallel(n_jobs=4)]: Done 120 tasks      | elapsed:   51.2s\n",
      "[Parallel(n_jobs=4)]: Done 240 out of 240 | elapsed:  1.5min finished\n"
     ]
    },
    {
     "name": "stdout",
     "output_type": "stream",
     "text": [
      "Result on the test sample: \n",
      "0.6270676691729323\n",
      "Result on the train\n",
      "0.6351332877648667\n",
      "          col  values buying\n",
      "8  membership       0.455853\n",
      "5      income       0.278848\n",
      "4         age       0.197358\n",
      "1    duration       0.038655\n",
      "6           F       0.016783\n",
      "7           M       0.012504\n",
      "0  difficulty       0.000000\n",
      "2    reward_y       0.000000\n",
      "3       email       0.000000\n",
      "runnin buy offer all\n",
      "Fitting 5 folds for each of 48 candidates, totalling 240 fits\n"
     ]
    },
    {
     "name": "stderr",
     "output_type": "stream",
     "text": [
      "[Parallel(n_jobs=4)]: Using backend LokyBackend with 4 concurrent workers.\n",
      "[Parallel(n_jobs=4)]: Done  24 tasks      | elapsed:  1.1min\n",
      "[Parallel(n_jobs=4)]: Done 120 tasks      | elapsed:  5.7min\n",
      "[Parallel(n_jobs=4)]: Done 240 out of 240 | elapsed:  9.8min finished\n"
     ]
    },
    {
     "name": "stdout",
     "output_type": "stream",
     "text": [
      "Result on the test sample: \n",
      "0.6966183252021654\n",
      "Result on the train\n",
      "0.6899248120300752\n",
      "              col  values buying\n",
      "11     membership       0.433870\n",
      "8          income       0.207760\n",
      "7             age       0.167733\n",
      "2        reward_y       0.061038\n",
      "0      difficulty       0.036852\n",
      "1        duration       0.036515\n",
      "10              M       0.027683\n",
      "9               F       0.011683\n",
      "3            bogo       0.006912\n",
      "4        discount       0.005992\n",
      "6   informational       0.003962\n",
      "5           email       0.000000\n",
      "running view_offer bogo then discount then informational\n",
      "Fitting 5 folds for each of 48 candidates, totalling 240 fits\n"
     ]
    },
    {
     "name": "stderr",
     "output_type": "stream",
     "text": [
      "[Parallel(n_jobs=4)]: Using backend LokyBackend with 4 concurrent workers.\n",
      "[Parallel(n_jobs=4)]: Done  24 tasks      | elapsed:   21.5s\n",
      "[Parallel(n_jobs=4)]: Done 120 tasks      | elapsed:  1.9min\n",
      "[Parallel(n_jobs=4)]: Done 240 out of 240 | elapsed:  3.3min finished\n"
     ]
    },
    {
     "name": "stdout",
     "output_type": "stream",
     "text": [
      "Result on the test sample: \n",
      "0.6349857645285547\n",
      "Result on the train\n",
      "0.6322713257965057\n",
      "          col  values buying\n",
      "8  membership       0.285441\n",
      "5      income       0.224851\n",
      "4         age       0.198202\n",
      "1    duration       0.135180\n",
      "2    reward_y       0.073010\n",
      "0  difficulty       0.056693\n",
      "7           M       0.013776\n",
      "6           F       0.012847\n",
      "3       email       0.000000\n",
      "Fitting 5 folds for each of 48 candidates, totalling 240 fits\n"
     ]
    },
    {
     "name": "stderr",
     "output_type": "stream",
     "text": [
      "[Parallel(n_jobs=4)]: Using backend LokyBackend with 4 concurrent workers.\n",
      "[Parallel(n_jobs=4)]: Done  24 tasks      | elapsed:   20.4s\n",
      "[Parallel(n_jobs=4)]: Done 120 tasks      | elapsed:  1.8min\n",
      "[Parallel(n_jobs=4)]: Done 240 out of 240 | elapsed:  3.2min finished\n"
     ]
    },
    {
     "name": "stdout",
     "output_type": "stream",
     "text": [
      "Result on the test sample: \n",
      "0.6613884490374198\n",
      "Result on the train\n",
      "0.6505284691442209\n",
      "          col  values buying\n",
      "8  membership       0.229539\n",
      "5      income       0.203500\n",
      "4         age       0.178598\n",
      "2    reward_y       0.153261\n",
      "0  difficulty       0.116892\n",
      "1    duration       0.093329\n",
      "7           M       0.014258\n",
      "6           F       0.010622\n",
      "3       email       0.000000\n",
      "Fitting 5 folds for each of 48 candidates, totalling 240 fits\n"
     ]
    },
    {
     "name": "stderr",
     "output_type": "stream",
     "text": [
      "[Parallel(n_jobs=4)]: Using backend LokyBackend with 4 concurrent workers.\n",
      "[Parallel(n_jobs=4)]: Done  24 tasks      | elapsed:    9.8s\n",
      "[Parallel(n_jobs=4)]: Done 120 tasks      | elapsed:   50.6s\n",
      "[Parallel(n_jobs=4)]: Done 240 out of 240 | elapsed:  1.5min finished\n"
     ]
    },
    {
     "name": "stdout",
     "output_type": "stream",
     "text": [
      "Result on the test sample: \n",
      "0.6736842105263158\n",
      "Result on the train\n",
      "0.6843472317156528\n",
      "          col  values buying\n",
      "8  membership       0.290019\n",
      "1    duration       0.247499\n",
      "5      income       0.227432\n",
      "4         age       0.199613\n",
      "6           F       0.019036\n",
      "7           M       0.016400\n",
      "0  difficulty       0.000000\n",
      "2    reward_y       0.000000\n",
      "3       email       0.000000\n",
      "runnin view_offer all\n",
      "Fitting 5 folds for each of 48 candidates, totalling 240 fits\n"
     ]
    },
    {
     "name": "stderr",
     "output_type": "stream",
     "text": [
      "[Parallel(n_jobs=4)]: Using backend LokyBackend with 4 concurrent workers.\n",
      "[Parallel(n_jobs=4)]: Done  24 tasks      | elapsed:  1.2min\n",
      "[Parallel(n_jobs=4)]: Done 120 tasks      | elapsed:  5.9min\n",
      "[Parallel(n_jobs=4)]: Done 240 out of 240 | elapsed: 10.1min finished\n"
     ]
    },
    {
     "name": "stdout",
     "output_type": "stream",
     "text": [
      "Result on the test sample: \n",
      "0.6534451647396913\n",
      "Result on the train\n",
      "0.6497607655502392\n",
      "              col  values buying\n",
      "11     membership       0.249755\n",
      "8          income       0.209211\n",
      "7             age       0.180306\n",
      "0      difficulty       0.137253\n",
      "1        duration       0.130288\n",
      "2        reward_y       0.049273\n",
      "10              M       0.014795\n",
      "9               F       0.012923\n",
      "4        discount       0.006220\n",
      "3            bogo       0.006130\n",
      "6   informational       0.003846\n",
      "5           email       0.000000\n"
     ]
    }
   ],
   "source": [
    "from sklearn.ensemble import RandomForestClassifier\n",
    "def build_model():\n",
    "    pipeline = Pipeline([\n",
    "        (\"feature_select\", SelectPercentile()),\n",
    "        (\"model\", RandomForestClassifier(random_state=42))\n",
    "    ])\n",
    "    params = {\n",
    "        \"feature_select__percentile\":[ 100],\n",
    "        'model__bootstrap': [False, True],\n",
    "         'model__n_estimators': [80 , 130],\n",
    "         'model__max_features': [0.6, 0.7, 0.8],\n",
    "         'model__min_samples_leaf': [10 , 14],\n",
    "         'model__min_samples_split': [3,  7]\n",
    "        },\n",
    "    # train the second model\n",
    "\n",
    "    cv  = GridSearchCV(pipeline, param_grid=params,verbose=3,n_jobs=4,cv=5)\n",
    "    return cv\n",
    "def model_data(new_df_regression, y_forcasted, restrict_offer_col =[]  ,printing =0):\n",
    "\n",
    "    if len(restrict_offer_col) >0:\n",
    "        diff = set(['bogo', 'discount', 'informational']).difference(   set(restrict_offer_col) )\n",
    "        X = new_df_regression[new_df_regression[restrict_offer_col[0]] == 1]\n",
    "        X = X.drop(['bogo', 'discount', 'informational'], axis=1)\n",
    "    else:\n",
    "        X = new_df_regression\n",
    "    if y_forcasted =='view_offer':\n",
    "        y = X[ 'view_offer']\n",
    "        X = X.drop(['view_offer', 'buy_offer'], axis=1)\n",
    "    else: \n",
    "        y = X[ 'buy_offer']\n",
    "        X = X.drop(['view_offer', 'buy_offer'], axis=1)\n",
    "    X_train, X_test, y_train, y_test = train_test_split(X, y, test_size=.45, random_state=42, shuffle=True)\n",
    "\n",
    "    model = build_model()\n",
    "    model = model.fit(X_train, y_train)\n",
    "    y_pred = model.predict(X_test)\n",
    "    print('Result on the test sample: ')\n",
    "    print(1- np.sum((y_pred - y_test.values)**2) / len(y_test))\n",
    "    print('Result on the train')\n",
    "    print(model.best_score_)   \n",
    "    dataF =pd.DataFrame(data = {  'col' : X_train.columns ,                      \n",
    "                     'values buying' :model.best_estimator_.steps[1][1].feature_importances_ })\n",
    "    print(dataF.sort_values(by='values buying' , ascending =False))\n",
    "    return model\n",
    "df_amount = df_amount[[  'difficulty', 'duration','reward_y',\n",
    "                    'bogo', 'discount','email', 'informational', 'age','income', 'F', 'M',  'membership',\n",
    "                    'view_offer', 'buy_offer']]\n",
    "print('running buy_offer bogo then discount then informational')\n",
    "model = model_data(df_amount, 'buy_offer', restrict_offer_col =['bogo'] )\n",
    "model_buy_d = model_data(df_amount, 'buy_offer', restrict_offer_col =['discount'] )\n",
    "model = model_data(df_amount, 'buy_offer', restrict_offer_col =['informational'] )\n",
    "print('runnin buy offer all')\n",
    "model_buy = model_data(df_amount, 'buy_offer', restrict_offer_col =[] , printing =1 )\n",
    "from sklearn.externals import joblib\n",
    "# Output a pickle file for the model\n",
    "joblib.dump(model_buy, 'model_buy.pkl') \n",
    "print('running view_offer bogo then discount then informational')\n",
    "model = model_data(df_amount, 'view_offer', restrict_offer_col =['bogo'] )\n",
    "model = model_data(df_amount, 'view_offer', restrict_offer_col =['discount'] )\n",
    "model = model_data(df_amount, 'view_offer', restrict_offer_col =['informational'] )\n",
    "print('runnin view_offer all')\n",
    "model_view = model_data(df_amount, 'view_offer', restrict_offer_col =[] )"
   ]
  },
  {
   "cell_type": "code",
   "execution_count": 726,
   "metadata": {},
   "outputs": [],
   "source": [
    "\n",
    "from sklearn.tree import export_graphviz\n",
    "\n",
    "def save_tree_pic(model):\n",
    "    data_feature_names = [  'difficulty', 'duration','reward_y',\n",
    "                        'bogo', 'discount','email', 'informational', 'age','income', 'F', 'M',  'membership',],\n",
    "\n",
    "\n",
    "    # Visualize data https://pythonprogramminglanguage.com/decision-tree-visual-example/\n",
    "    dot_data = export_graphviz(model_buy.best_estimator_,\n",
    "                                    feature_names=data_feature_names,\n",
    "                                    out_file=None,\n",
    "                                    filled=True,\n",
    "                                    rounded=True)\n",
    "    graph = pydotplus.graph_from_dot_data(dot_data)\n",
    "\n",
    "    colors = ('turquoise', 'orange')\n",
    "    edges = collections.defaultdict(list)\n",
    "\n",
    "    for edge in graph.get_edge_list():\n",
    "        edges[edge.get_source()].append(int(edge.get_destination()))\n",
    "\n",
    "    for edge in edges:\n",
    "        edges[edge].sort()    \n",
    "        for i in range(2):\n",
    "            dest = graph.get_node(str(edges[edge][i]))[0]\n",
    "            dest.set_fillcolor(colors[i])\n",
    "\n",
    "    graph.write_png('tree.png')"
   ]
  },
  {
   "cell_type": "markdown",
   "metadata": {},
   "source": [
    "This gives a model to evaluate the potential impact of a campain.\n",
    "              col  values buying  \n",
    "11     membership       0.433870  \n",
    "8          income       0.207760  \n",
    "7             age       0.167733  \n",
    "2        reward_y       0.061038  \n",
    "0      difficulty       0.036852  \n",
    "1        duration       0.036515  \n",
    "10              M       0.027683  \n",
    "9               F       0.011683  \n",
    "3            bogo       0.006912  \n",
    "4        discount       0.005992  \n",
    "6   informational       0.003962  \n",
    "5           email       0.000000  \n",
    "\n",
    "The main features are actually the length of the menbership, income and age. The type of campain matters a lot less.\n",
    "\n",
    "Imagine you think of 2 campaing but you are unsure which one would be the best for who. You know you want to give them the same rewards but you want to maximise the effectiveness of the campaign.  \n",
    "Please note the membership time is in second.\n",
    "In the example below, for a member with the same characteristics except the length of the membership, we have very different probability of success.  \n",
    "Changing the offer to bogo makes a tiny difference but not enough to predict success.\n"
   ]
  },
  {
   "cell_type": "code",
   "execution_count": 744,
   "metadata": {},
   "outputs": [
    {
     "name": "stdout",
     "output_type": "stream",
     "text": [
      " for membership of 1000 seconds\n",
      "[0]\n",
      "[[0.68634165 0.31365835]]\n",
      " for membership of 1000000 seconds\n",
      "[1]\n",
      "[[0.28765564 0.71234436]]\n",
      "[0]\n",
      "[[0.671895 0.328105]]\n"
     ]
    }
   ],
   "source": [
    "X_new =pd.DataFrame( data = { 'difficulty' : [5], 'duration' :[5],'reward_y':[10],\n",
    "                        'bogo':[0], 'discount':[1],'email':[0], 'informational':[0],\n",
    "                      'age':[25],'income':[60000],\n",
    "                      'F':[0], 'M':[1], \n",
    "                      'membership':[1000]})\n",
    "model_buy = joblib.load('model_buy.pkl') \n",
    "print(' for membership of 1000 seconds')\n",
    "print(model_buy.predict(X_new ))\n",
    "print(model_buy.predict_proba(X_new ))\n",
    "X_new =pd.DataFrame( data = { 'difficulty' : [5], 'duration' :[5],'reward_y':[10],\n",
    "                        'bogo':[0], 'discount':[1],'email':[0], 'informational':[0],\n",
    "                      'age':[25],'income':[60000],\n",
    "                      'F':[0], 'M':[1], \n",
    "                      'membership':[1000000]})\n",
    "print(' for membership of 1000000 seconds')\n",
    "print(model_buy.predict(X_new ))\n",
    "print(model_buy.predict_proba(X_new ))\n",
    "X_new =pd.DataFrame( data = { 'difficulty' : [5], 'duration' :[5],'reward_y':[10],\n",
    "                        'bogo':[1], 'discount':[0],'email':[0], 'informational':[0],\n",
    "                      'age':[25],'income':[60000],\n",
    "                      'F':[0], 'M':[1], \n",
    "                      'membership':[1000]})\n",
    "print(model_buy.predict(X_new ))\n",
    "print(model_buy.predict_proba(X_new ))"
   ]
  },
  {
   "cell_type": "markdown",
   "metadata": {},
   "source": [
    "# 8 Conclusion"
   ]
  },
  {
   "cell_type": "markdown",
   "metadata": {},
   "source": [
    "We provide a fairly reliable way to assess the likelyhood that a promotion will reach the its customer and be used. \n",
    "Using this, we can reliabily assess the effectivness of proposed campain."
   ]
  }
 ],
 "metadata": {
  "kernelspec": {
   "display_name": "Python 3",
   "language": "python",
   "name": "python3"
  },
  "language_info": {
   "codemirror_mode": {
    "name": "ipython",
    "version": 3
   },
   "file_extension": ".py",
   "mimetype": "text/x-python",
   "name": "python",
   "nbconvert_exporter": "python",
   "pygments_lexer": "ipython3",
   "version": "3.7.3"
  }
 },
 "nbformat": 4,
 "nbformat_minor": 2
}
